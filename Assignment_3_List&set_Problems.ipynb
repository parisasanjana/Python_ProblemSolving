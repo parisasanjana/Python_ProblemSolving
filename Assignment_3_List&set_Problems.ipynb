{
 "cells": [
  {
   "cell_type": "markdown",
   "id": "763ebdad-cab7-42ac-a5c0-680ab893884c",
   "metadata": {},
   "source": [
    "## List Problems:"
   ]
  },
  {
   "cell_type": "markdown",
   "id": "ece8550d-09a9-45e5-8bfb-bcf4e7d7a5e6",
   "metadata": {},
   "source": [
    "## 34. List Sum: Write a Python program to find the sum of all elements in a given list of integers."
   ]
  },
  {
   "cell_type": "code",
   "execution_count": 16,
   "id": "a44ce66c-317b-40f0-833e-5c5c34c9e0a0",
   "metadata": {},
   "outputs": [],
   "source": [
    "numbers = [5, 10, 20, 50, 70]"
   ]
  },
  {
   "cell_type": "code",
   "execution_count": 23,
   "id": "531b2322-57cf-4eb3-9b15-8e22b6e88f34",
   "metadata": {},
   "outputs": [
    {
     "name": "stdout",
     "output_type": "stream",
     "text": [
      "Sum of all elements in the list: 155\n"
     ]
    }
   ],
   "source": [
    "total_sum = 0\n",
    "for number in numbers:\n",
    "    total_sum += number\n",
    "print(\"Sum of all elements in the list:\", total_sum)    "
   ]
  },
  {
   "cell_type": "markdown",
   "id": "15fb09cd-46e1-46c5-8934-f3e160dcfc8f",
   "metadata": {},
   "source": [
    "## 35. List Average: Write a Python program to calculate the average of all elements in a given list of integers."
   ]
  },
  {
   "cell_type": "code",
   "execution_count": 26,
   "id": "d7a5211c-8300-4bb3-827b-d252a8d852c9",
   "metadata": {},
   "outputs": [],
   "source": [
    "numbers = [5, 10, 20, 50, 70]"
   ]
  },
  {
   "cell_type": "code",
   "execution_count": 28,
   "id": "634c5feb-1f9d-4b15-b108-9ad5e67e7061",
   "metadata": {},
   "outputs": [
    {
     "name": "stdout",
     "output_type": "stream",
     "text": [
      "Average of all elements in the list: 31.0\n"
     ]
    }
   ],
   "source": [
    "total_sum = sum(numbers)\n",
    "average = total_sum / len(numbers)\n",
    "print(\"Average of all elements in the list:\", average)"
   ]
  },
  {
   "cell_type": "markdown",
   "id": "1f933b42-bacc-4032-905a-2fa30d653b6b",
   "metadata": {},
   "source": [
    "## 36. List Max and Min: Write a Python program to find the maximum and minimum values in a given list of integers."
   ]
  },
  {
   "cell_type": "code",
   "execution_count": 31,
   "id": "e0d90751-0b31-4b9a-8ee3-4344b9bb4747",
   "metadata": {},
   "outputs": [],
   "source": [
    "numbers = [5, 10, 20, 50, 70]"
   ]
  },
  {
   "cell_type": "code",
   "execution_count": 33,
   "id": "2ebb83b7-5fd8-4bd8-8d96-8d2090f0cb26",
   "metadata": {},
   "outputs": [
    {
     "name": "stdout",
     "output_type": "stream",
     "text": [
      "Maximum value in the list: 70\n",
      "Minimum value in the list: 5\n"
     ]
    }
   ],
   "source": [
    "max_value = max(numbers)\n",
    "min_value = min(numbers)\n",
    "print(\"Maximum value in the list:\", max_value)\n",
    "print(\"Minimum value in the list:\", min_value)"
   ]
  },
  {
   "cell_type": "markdown",
   "id": "9e8d8ccc-1991-4cac-9d4c-396ce14d4b87",
   "metadata": {},
   "source": [
    "## 37. List Sorting: Write a Python program to sort a list of integers in ascending order."
   ]
  },
  {
   "cell_type": "code",
   "execution_count": 42,
   "id": "f1f102cd-4376-4954-ac73-4fee3031a7ac",
   "metadata": {},
   "outputs": [],
   "source": [
    "numbers = [5,70,100,4,9,18]"
   ]
  },
  {
   "cell_type": "code",
   "execution_count": 44,
   "id": "7e12769e-cbe4-41bf-b1c3-aeed1510cce7",
   "metadata": {},
   "outputs": [
    {
     "name": "stdout",
     "output_type": "stream",
     "text": [
      "Sorted list in ascending order: [4, 5, 9, 18, 70, 100]\n"
     ]
    }
   ],
   "source": [
    "numbers.sort()\n",
    "print(\"Sorted list in ascending order:\", numbers)"
   ]
  },
  {
   "cell_type": "markdown",
   "id": "17e494f5-58e7-4d37-be8b-a2ea6ec705f8",
   "metadata": {},
   "source": [
    "## 38. List Filtering: Given a list of integers, write a Python program to create a new list that contains only the even numbers from the original list."
   ]
  },
  {
   "cell_type": "code",
   "execution_count": 47,
   "id": "c83297f8-8886-4687-8b1b-6eb9df1657ae",
   "metadata": {},
   "outputs": [],
   "source": [
    "numbers = [10, 15, 20, 25, 30, 35, 40]"
   ]
  },
  {
   "cell_type": "code",
   "execution_count": 49,
   "id": "09177f08-594b-4f34-90f3-f3056107260c",
   "metadata": {},
   "outputs": [
    {
     "name": "stdout",
     "output_type": "stream",
     "text": [
      "Even numbers from the list: [10, 20, 30, 40]\n"
     ]
    }
   ],
   "source": [
    "even_numbers = []\n",
    "for num in numbers:\n",
    "    if num % 2 == 0:\n",
    "        even_numbers.append(num)\n",
    "print(\"Even numbers from the list:\", even_numbers)"
   ]
  },
  {
   "cell_type": "markdown",
   "id": "4f54e3b0-5616-4546-9735-f5cc6f589540",
   "metadata": {},
   "source": [
    "## 39. List Reversal: Write a Python program to reverse a given list without using any built-in functions."
   ]
  },
  {
   "cell_type": "code",
   "execution_count": 108,
   "id": "3ef4fe56-b0de-4bd1-9f65-97c365500c1e",
   "metadata": {},
   "outputs": [],
   "source": [
    "numbers = [10, 20, 30, 40, 50]"
   ]
  },
  {
   "cell_type": "code",
   "execution_count": 110,
   "id": "1074e4a5-97b5-429f-b640-173bf2468d1d",
   "metadata": {},
   "outputs": [
    {
     "name": "stdout",
     "output_type": "stream",
     "text": [
      "Reversed list: [50, 40, 30, 20, 10]\n"
     ]
    }
   ],
   "source": [
    "reversed_list = []\n",
    "for i in range(len(numbers) - 1, -1, -1):\n",
    "    reversed_list.append(numbers[i])\n",
    "print(\"Reversed list:\", reversed_list)"
   ]
  },
  {
   "cell_type": "markdown",
   "id": "0815faf7-b211-42eb-9f02-b98c8912f570",
   "metadata": {},
   "source": [
    "## 40. List Manipulation: Given two lists of integers, write a Python program to create a new list that contains elements common to both lists."
   ]
  },
  {
   "cell_type": "code",
   "execution_count": 67,
   "id": "fc215fa0-e58f-4d43-b18f-1050d00e49e9",
   "metadata": {},
   "outputs": [],
   "source": [
    "list1 = [10, 20, 30, 40, 50]\n",
    "list2 = [30, 40, 50, 60, 70]"
   ]
  },
  {
   "cell_type": "code",
   "execution_count": 71,
   "id": "8754b634-dbce-43f5-a12d-268005307fa5",
   "metadata": {},
   "outputs": [
    {
     "name": "stdout",
     "output_type": "stream",
     "text": [
      "Common elements: [30, 40, 50]\n"
     ]
    }
   ],
   "source": [
    "common = []\n",
    "for num in list1:\n",
    "    if num in list2:\n",
    "        common.append(num)\n",
    "print(\"Common elements:\", common)"
   ]
  },
  {
   "cell_type": "markdown",
   "id": "c2df1fd7-9b53-49a9-b8a3-6e7e05e4e854",
   "metadata": {},
   "source": [
    "## 41. List Element Count: Write a Python program to count the occurrences of a specific element in a given list."
   ]
  },
  {
   "cell_type": "code",
   "execution_count": 75,
   "id": "c5784897-e9c5-4f74-96d2-1b6a476ded86",
   "metadata": {},
   "outputs": [],
   "source": [
    "numbers = [10, 20, 30, 20, 40, 50,40]"
   ]
  },
  {
   "cell_type": "code",
   "execution_count": 77,
   "id": "40de3659-40f8-4605-af78-3bfcac99d21f",
   "metadata": {},
   "outputs": [
    {
     "name": "stdout",
     "output_type": "stream",
     "text": [
      "The element 40 occurs 2 times in the list.\n"
     ]
    }
   ],
   "source": [
    "element = 40\n",
    "count = 0\n",
    "for num in numbers:\n",
    "    if num == element:\n",
    "        count += 1\n",
    "print(f\"The element {element} occurs {count} times in the list.\")"
   ]
  },
  {
   "cell_type": "markdown",
   "id": "879404bc-23ef-4f3f-ad4c-5ad7e9892254",
   "metadata": {},
   "source": [
    "## 42. List Duplicates Removal: Write a Python program to remove duplicates from a given list while preserving the order of the elements."
   ]
  },
  {
   "cell_type": "code",
   "execution_count": 79,
   "id": "a8efccd2-d117-4fd8-9a99-228dac536919",
   "metadata": {},
   "outputs": [],
   "source": [
    "numbers = [10, 20, 30, 20, 40, 50, 30, 60, 50]"
   ]
  },
  {
   "cell_type": "code",
   "execution_count": 81,
   "id": "8bd6014e-502c-444b-a5e0-110b692aa9df",
   "metadata": {},
   "outputs": [
    {
     "name": "stdout",
     "output_type": "stream",
     "text": [
      "List after removing duplicates: [10, 20, 30, 40, 50, 60]\n"
     ]
    }
   ],
   "source": [
    "uniqueNumbers = []\n",
    "for num in numbers:\n",
    "    if num not in uniqueNumbers:\n",
    "        uniqueNumbers.append(num)\n",
    "print(\"List after removing duplicates:\", uniqueNumbers)"
   ]
  },
  {
   "cell_type": "markdown",
   "id": "36596517-aaca-4724-bf36-115aeb8c1821",
   "metadata": {},
   "source": [
    "## 43. List Comprehension: Given a list of integers, write a Python program to create a new list that contains the squares of the elements using list comprehension."
   ]
  },
  {
   "cell_type": "code",
   "execution_count": 83,
   "id": "c91560ef-c70e-4a4f-a445-d97da7f49cc6",
   "metadata": {},
   "outputs": [],
   "source": [
    "numbers = [5,7,9,10,17]"
   ]
  },
  {
   "cell_type": "code",
   "execution_count": 87,
   "id": "2ef3b35f-3725-43b8-9934-c8861cea9a12",
   "metadata": {},
   "outputs": [
    {
     "name": "stdout",
     "output_type": "stream",
     "text": [
      "List of squares: [25, 49, 81, 100, 289]\n"
     ]
    }
   ],
   "source": [
    "squares = [num ** 2 for num in numbers]\n",
    "print(\"List of squares:\", squares)"
   ]
  },
  {
   "cell_type": "markdown",
   "id": "4d2548d6-903b-445f-bd6c-e7652a99cfd9",
   "metadata": {},
   "source": [
    "## Nested List Problems:"
   ]
  },
  {
   "cell_type": "markdown",
   "id": "50b76b1f-b590-48c8-966a-c2b4f4b017e1",
   "metadata": {},
   "source": [
    "## 44. Matrix Addition: Write a Python program to add two matrices represented as nested lists."
   ]
  },
  {
   "cell_type": "code",
   "execution_count": 96,
   "id": "aaaad72c-c28a-45c6-bf56-e7c4c8d7ce59",
   "metadata": {},
   "outputs": [],
   "source": [
    "matrix1 = [\n",
    "    [10, 12, 23],\n",
    "    [24, 56, 90],\n",
    "     [7, 18, 29]\n",
    "]\n",
    "\n",
    "matrix2 = [\n",
    "    [19, 8, 27],\n",
    "    [56, 5, 14],\n",
    "    [33, 2, 11]\n",
    "]\n",
    "result = [\n",
    "    [0, 0, 0],\n",
    "    [0, 0, 0],\n",
    "    [0, 0, 0]\n",
    "]\n"
   ]
  },
  {
   "cell_type": "code",
   "execution_count": 98,
   "id": "78e27869-7e64-477f-9984-6da302c682c8",
   "metadata": {},
   "outputs": [
    {
     "name": "stdout",
     "output_type": "stream",
     "text": [
      "Matrix after addition:\n",
      "[29, 20, 50]\n",
      "[80, 61, 104]\n",
      "[40, 20, 40]\n"
     ]
    }
   ],
   "source": [
    "for i in range(len(matrix1)):\n",
    "    for j in range(len(matrix1[0])):\n",
    "        result[i][j] = matrix1[i][j] + matrix2[i][j]\n",
    "print(\"Matrix after addition:\")\n",
    "for row in result:\n",
    "    print(row)"
   ]
  },
  {
   "cell_type": "markdown",
   "id": "10e0f75f-83a9-4c4e-9f01-89caa64a4d74",
   "metadata": {},
   "source": [
    "## 45. Flatten Nested List: Write a Python program to flatten a given nested list and convert it into a single-dimensional list."
   ]
  },
  {
   "cell_type": "code",
   "execution_count": 102,
   "id": "42cf98c0-5557-41ae-a711-31f79fe574e0",
   "metadata": {},
   "outputs": [],
   "source": [
    "nested_list = [[1, 2, [3, 4]], [6,8], [8, 9, [12, 13]]]"
   ]
  },
  {
   "cell_type": "code",
   "execution_count": 106,
   "id": "10919add-0098-4ba5-805e-69d5009cf5ab",
   "metadata": {},
   "outputs": [
    {
     "name": "stdout",
     "output_type": "stream",
     "text": [
      "Flattened list: [1, 2, 3, 4, 6, 8, 8, 9, 12, 13]\n"
     ]
    }
   ],
   "source": [
    "def flatten_list(nested):\n",
    "    flat = []\n",
    "    for item in nested:\n",
    "        if isinstance(item, list):\n",
    "            flat.extend(flatten_list(item)) \n",
    "        else:\n",
    "            flat.append(item)\n",
    "    return flat\n",
    "\n",
    "flat = flatten_list(nested_list)\n",
    "print(\"Flattened list:\", flat)"
   ]
  },
  {
   "cell_type": "markdown",
   "id": "c2dcc001-68df-43fb-9233-7cc9e37dd2fd",
   "metadata": {},
   "source": [
    "## 46. List Element Frequency: Given a nested list containing lists of integers, write a Python program to count the frequency of each element in the entire nested list."
   ]
  },
  {
   "cell_type": "code",
   "execution_count": 120,
   "id": "da3f849f-d442-49e5-890b-74b3ced7c03a",
   "metadata": {},
   "outputs": [],
   "source": [
    "from collections import defaultdict\n",
    "nested_list = [[1, 2, 3], [4, 1, 6], [2, 4, 7, 1]]"
   ]
  },
  {
   "cell_type": "code",
   "execution_count": 124,
   "id": "3d889932-91d4-47ef-b310-686666ec72c3",
   "metadata": {},
   "outputs": [
    {
     "name": "stdout",
     "output_type": "stream",
     "text": [
      "frequency of each element {1: 3, 2: 2, 3: 1, 4: 2, 6: 1, 7: 1}\n"
     ]
    }
   ],
   "source": [
    "fre = defaultdict(int)\n",
    "for sublist in nested_list:\n",
    "    for item in sublist:\n",
    "        fre[item] += 1\n",
    "        fre_dict = dict(fre)\n",
    "\n",
    "print(\"frequency of each element\",fre_dict)"
   ]
  },
  {
   "cell_type": "markdown",
   "id": "ff97ebcd-ed76-4c57-8d32-27fd21f0d4f2",
   "metadata": {},
   "source": [
    "## 47. Transpose Matrix: Write a Python program to transpose a given matrix represented as a nested list."
   ]
  },
  {
   "cell_type": "code",
   "execution_count": 126,
   "id": "9d2aa301-8a47-49df-8f81-84cf038bc043",
   "metadata": {},
   "outputs": [],
   "source": [
    "matrix = [\n",
    "    [1, 2, 3],\n",
    "    [4, 5, 6],\n",
    "    [7, 8, 9]\n",
    "]"
   ]
  },
  {
   "cell_type": "code",
   "execution_count": 128,
   "id": "197e2e25-08dd-4a80-aad7-db4204a125ec",
   "metadata": {},
   "outputs": [],
   "source": [
    "transpose = []\n",
    "for i in range(len(matrix[0])):\n",
    "    new_row = []\n",
    "    for row in matrix:\n",
    "        new_row.append(row[i])\n",
    "    transpose.append(new_row)"
   ]
  },
  {
   "cell_type": "code",
   "execution_count": 130,
   "id": "177452e5-d9a4-4035-bf69-af2669ac4314",
   "metadata": {},
   "outputs": [
    {
     "name": "stdout",
     "output_type": "stream",
     "text": [
      "Transposed matrix:\n",
      "[1, 4, 7]\n",
      "[2, 5, 8]\n",
      "[3, 6, 9]\n"
     ]
    }
   ],
   "source": [
    "print(\"Transposed matrix:\")\n",
    "for row in transpose:\n",
    "    print(row)"
   ]
  },
  {
   "cell_type": "markdown",
   "id": "b6d9b87d-ef42-462d-9622-4b258e2c1cfb",
   "metadata": {},
   "source": [
    "## 48. List of Lists Concatenation: Given a list of nested lists, write a Python program to concatenate all the sublists into a single flat list."
   ]
  },
  {
   "cell_type": "code",
   "execution_count": 132,
   "id": "be9de698-4596-48b0-99d9-2ac296cf0e94",
   "metadata": {},
   "outputs": [],
   "source": [
    "nested_lists = [[1, 2, 3], [4, 5], [6, 7, 8, 9]]"
   ]
  },
  {
   "cell_type": "code",
   "execution_count": 134,
   "id": "445d4980-c6e3-49b9-9083-389b751054a2",
   "metadata": {},
   "outputs": [
    {
     "name": "stdout",
     "output_type": "stream",
     "text": [
      "Concatenated flat list: [1, 2, 3, 4, 5, 6, 7, 8, 9]\n"
     ]
    }
   ],
   "source": [
    "flat_list = []\n",
    "for sublist in nested_lists:\n",
    "    for item in sublist:\n",
    "        flat_list.append(item)\n",
    "print(\"Concatenated flat list:\", flat_list)"
   ]
  },
  {
   "cell_type": "markdown",
   "id": "534ef371-6de5-47e2-9af1-0f3e6a5cfb71",
   "metadata": {},
   "source": [
    "## Tuple Problems:"
   ]
  },
  {
   "cell_type": "markdown",
   "id": "589da37c-7022-46bb-8e29-bb7ae5886c11",
   "metadata": {},
   "source": [
    "## 49. Tuple Concatenation: Write a Python program to concatenate two tuples and create a new tuple."
   ]
  },
  {
   "cell_type": "code",
   "execution_count": 138,
   "id": "b2223622-7405-4ca4-82b0-7c5243a812a1",
   "metadata": {},
   "outputs": [
    {
     "name": "stdout",
     "output_type": "stream",
     "text": [
      "Concatenated tuple: (1, 2, 3, 8, 5, 16)\n"
     ]
    }
   ],
   "source": [
    "tuple1 = (1, 2, 3)\n",
    "tuple2 = (8, 5, 16)\n",
    "concatenated_tuple = tuple1 + tuple2\n",
    "print(\"Concatenated tuple:\", concatenated_tuple)"
   ]
  },
  {
   "cell_type": "markdown",
   "id": "5e0d96c9-1708-4cdc-b9d5-dbbd24c1dd45",
   "metadata": {},
   "source": [
    "## 50. Tuple Unpacking: Given a tuple with three elements (x, y, z), write a Python program to unpack the tuple and assign the values to three variables."
   ]
  },
  {
   "cell_type": "code",
   "execution_count": 140,
   "id": "a04f5ead-335e-4f29-9bdb-78f2c12e346a",
   "metadata": {},
   "outputs": [
    {
     "name": "stdout",
     "output_type": "stream",
     "text": [
      "x: 10\n",
      "y: 20\n",
      "z: 30\n"
     ]
    }
   ],
   "source": [
    "myTuple = (10, 20, 30)\n",
    "x, y, z = myTuple\n",
    "print(\"x:\", x)\n",
    "print(\"y:\", y)\n",
    "print(\"z:\", z)"
   ]
  },
  {
   "cell_type": "markdown",
   "id": "fd74f53b-52ed-4652-b09e-4093846d8a1d",
   "metadata": {},
   "source": [
    "## 51. Tuple Sorting: Write a Python program to sort a tuple of integers in ascending order."
   ]
  },
  {
   "cell_type": "code",
   "execution_count": 424,
   "id": "b705dd54-2fc2-480f-81ae-136c90da9aea",
   "metadata": {},
   "outputs": [],
   "source": [
    "my_tuple = (1, 2, 3, 2, 4, 2, 5, 6)"
   ]
  },
  {
   "cell_type": "code",
   "execution_count": 426,
   "id": "2f21dd1d-7216-4c4d-8eef-b15b1433e3a6",
   "metadata": {},
   "outputs": [
    {
     "name": "stdout",
     "output_type": "stream",
     "text": [
      "The element 2 occurs 3 times in the tuple.\n"
     ]
    }
   ],
   "source": [
    "element = 2\n",
    "count = 0\n",
    "for item in my_tuple:\n",
    "    if item == element:\n",
    "        count += 1\n",
    "print(f\"The element {element} occurs {count} times in the tuple.\")"
   ]
  },
  {
   "cell_type": "markdown",
   "id": "5a31ac8e-ecb9-4ff4-8803-0f1fe07112ac",
   "metadata": {},
   "source": [
    "## 52. Tuple Frequency Count: Given a tuple containing various elements, write a Python program to count the frequency of a specific element in the tuple."
   ]
  },
  {
   "cell_type": "code",
   "execution_count": 428,
   "id": "0760c685-37a8-4da7-b02c-9c344a9b98a6",
   "metadata": {},
   "outputs": [
    {
     "name": "stdout",
     "output_type": "stream",
     "text": [
      "Converted list: [1, 5, 8, 9, 15]\n"
     ]
    }
   ],
   "source": [
    "my_tuple = (1,5,8,9,15)\n",
    "my_list = list(my_tuple)\n",
    "print(\"Converted list:\", my_list)"
   ]
  },
  {
   "cell_type": "markdown",
   "id": "0b4beb5d-c745-45ad-9889-7b794b458f0c",
   "metadata": {},
   "source": [
    "## 53. Tuple to List: Write a Python program to convert a tuple into a list. "
   ]
  },
  {
   "cell_type": "code",
   "execution_count": 430,
   "id": "bfc01e71-1b03-47e2-b27c-b6c683d034f9",
   "metadata": {},
   "outputs": [
    {
     "name": "stdout",
     "output_type": "stream",
     "text": [
      "Converted list: [1, 2, 3, 4, 5]\n"
     ]
    }
   ],
   "source": [
    "my_tuple = (1, 2, 3, 4, 5)\n",
    "my_list = list(my_tuple)\n",
    "print(\"Converted list:\", my_list)"
   ]
  },
  {
   "cell_type": "markdown",
   "id": "759b37cb-8236-4fe0-917b-e4dd615404ea",
   "metadata": {},
   "source": [
    "## 54. Tuple Reversal: Write a Python program to reverse a tuple without using any built-in functions."
   ]
  },
  {
   "cell_type": "code",
   "execution_count": 432,
   "id": "3909b4cf-79e6-4210-a9d9-9d7d9b6e0bd8",
   "metadata": {},
   "outputs": [],
   "source": [
    "my_tuple = (1, 2, 3, 4, 5)"
   ]
  },
  {
   "cell_type": "code",
   "execution_count": 434,
   "id": "c8e79fcb-f5d3-4a2c-9b1d-a1e1ebc25a53",
   "metadata": {},
   "outputs": [
    {
     "name": "stdout",
     "output_type": "stream",
     "text": [
      "Reversed tuple: (5, 4, 3, 2, 1)\n"
     ]
    }
   ],
   "source": [
    "reversed_tuple = ()\n",
    "for i in range(len(my_tuple) - 1, -1, -1):\n",
    "    reversed_tuple += (my_tuple[i],)\n",
    "print(\"Reversed tuple:\", reversed_tuple)"
   ]
  },
  {
   "cell_type": "markdown",
   "id": "5c0693a1-ee29-4f34-96c0-1477deffcd9e",
   "metadata": {},
   "source": [
    "## 55. Tuple Slicing: Given a tuple, write a Python program to extract a slice of elements from it."
   ]
  },
  {
   "cell_type": "code",
   "execution_count": 436,
   "id": "beafa7a0-6ef2-4764-9219-8db82e1f8b4f",
   "metadata": {},
   "outputs": [
    {
     "name": "stdout",
     "output_type": "stream",
     "text": [
      "Reversed tuple: (11, 9, 6, 5, 1)\n"
     ]
    }
   ],
   "source": [
    "my_tuple = (1,5,6,9,11)\n",
    "reversed_tuple = ()\n",
    "for i in range(len(my_tuple) - 1, -1, -1):\n",
    "    reversed_tuple += (my_tuple[i],)\n",
    "print(\"Reversed tuple:\", reversed_tuple)"
   ]
  },
  {
   "cell_type": "markdown",
   "id": "23919635-7487-4f4c-82f1-98a4c624f3e6",
   "metadata": {},
   "source": [
    "## 56. Tuple Operations: Given two tuples of integers, write a Python program to perform element-wise addition, subtraction, and multiplication and create new tuples for each operation."
   ]
  },
  {
   "cell_type": "code",
   "execution_count": 438,
   "id": "3708d4b7-09fb-48b3-a537-7407202027a2",
   "metadata": {},
   "outputs": [],
   "source": [
    "tuple1 = (1, 2, 3)\n",
    "tuple2 = (4, 5, 6)"
   ]
  },
  {
   "cell_type": "code",
   "execution_count": 440,
   "id": "8e2df9cb-2eb1-4388-a6b2-b00b42ae10ee",
   "metadata": {},
   "outputs": [],
   "source": [
    "addition = tuple(a + b for a, b in zip(tuple1, tuple2))\n",
    "subtraction = tuple(a - b for a, b in zip(tuple1, tuple2))\n",
    "multiplication = tuple(a * b for a, b in zip(tuple1, tuple2))\n"
   ]
  },
  {
   "cell_type": "code",
   "execution_count": 442,
   "id": "44e7256e-8dc5-4bcd-99ce-0ede27ed7d07",
   "metadata": {},
   "outputs": [
    {
     "name": "stdout",
     "output_type": "stream",
     "text": [
      "Element-wise Addition: (5, 7, 9)\n",
      "Element-wise Subtraction: (-3, -3, -3)\n",
      "Element-wise Multiplication: (4, 10, 18)\n"
     ]
    }
   ],
   "source": [
    "print(\"Element-wise Addition:\", addition)\n",
    "print(\"Element-wise Subtraction:\", subtraction)\n",
    "print(\"Element-wise Multiplication:\", multiplication)"
   ]
  },
  {
   "cell_type": "markdown",
   "id": "2bdff354-23c5-45a4-a81a-09d9127e7b82",
   "metadata": {},
   "source": [
    "## 57. Tuple Membership Test: Write a Python program that takes an element as input and checks if it exists in a given tuple."
   ]
  },
  {
   "cell_type": "code",
   "execution_count": 444,
   "id": "068c7848-4af7-40dc-8aa1-40d7046d17f7",
   "metadata": {},
   "outputs": [],
   "source": [
    "my_tuple = (\"Dragon\", \"Mango\", \"cherry\", \"grape\", \"apple\")"
   ]
  },
  {
   "cell_type": "code",
   "execution_count": 446,
   "id": "ec75df4b-245d-46d1-a014-54c110f70dab",
   "metadata": {},
   "outputs": [
    {
     "name": "stdin",
     "output_type": "stream",
     "text": [
      "Enter an element to check for membership:  lichi\n"
     ]
    }
   ],
   "source": [
    "element = input(\"Enter an element to check for membership: \")"
   ]
  },
  {
   "cell_type": "code",
   "execution_count": 448,
   "id": "1854128c-4a12-4347-895b-5938a2ade851",
   "metadata": {},
   "outputs": [
    {
     "name": "stdout",
     "output_type": "stream",
     "text": [
      "lichi is not present in the tuple.\n"
     ]
    }
   ],
   "source": [
    "if element in my_tuple:\n",
    "    print(f\"{element} is present in the tuple.\")\n",
    "else:\n",
    "    print(f\"{element} is not present in the tuple.\")"
   ]
  },
  {
   "cell_type": "markdown",
   "id": "35c5c28d-6f73-4bd5-b626-7d883f22da93",
   "metadata": {},
   "source": [
    "## 58. Tuple Packing: Write a Python program to pack three variables into a single tuple and print the tuple."
   ]
  },
  {
   "cell_type": "code",
   "execution_count": 450,
   "id": "0eb86e2f-9a7c-4b47-9c8d-09ac7c65b396",
   "metadata": {},
   "outputs": [
    {
     "name": "stdout",
     "output_type": "stream",
     "text": [
      "Packed tuple: (40, 70, 80)\n"
     ]
    }
   ],
   "source": [
    "var1 = 40\n",
    "var2 = 70\n",
    "var3 = 80\n",
    "packed_tuple = (var1, var2, var3)\n",
    "print(\"Packed tuple:\", packed_tuple)"
   ]
  },
  {
   "cell_type": "markdown",
   "id": "572826d6-0425-4abf-ad6f-64f4972fb55f",
   "metadata": {},
   "source": [
    "## Nested List Problems:"
   ]
  },
  {
   "cell_type": "markdown",
   "id": "e1077f19-d1dd-4661-9c2c-2bc646d5b8a4",
   "metadata": {},
   "source": [
    "## 59. Nested List Element Access: Given a nested list, write a Python program to access and print specific elements from it"
   ]
  },
  {
   "cell_type": "code",
   "execution_count": 452,
   "id": "def07460-14a5-4c3c-91c1-08de5f431568",
   "metadata": {},
   "outputs": [],
   "source": [
    "nested_list = [\n",
    "    [1, 2, 3],\n",
    "    [4, 5, 6],\n",
    "    [7, 8, 9]\n",
    "]"
   ]
  },
  {
   "cell_type": "code",
   "execution_count": 454,
   "id": "d0b33e3b-fdb3-4a5e-bc92-451cbc239c64",
   "metadata": {},
   "outputs": [
    {
     "name": "stdout",
     "output_type": "stream",
     "text": [
      "Element from first sublist (index 1): lichi\n",
      "Element from third sublist (index 0): lichi\n",
      "Element from second sublist (index 2): 6\n"
     ]
    }
   ],
   "source": [
    "element1 = nested_list[0][1] \n",
    "element2 = nested_list[2][0]  \n",
    "element3 = nested_list[1][2] \n",
    "print(\"Element from first sublist (index 1):\", element)\n",
    "print(\"Element from third sublist (index 0):\", element)\n",
    "print(\"Element from second sublist (index 2):\", element3)"
   ]
  },
  {
   "cell_type": "markdown",
   "id": "1b4a86b1-4492-4fd8-9090-5670d7128bf8",
   "metadata": {},
   "source": [
    "## 60. Nested List Flattening: Write a Python program to flatten a nested list and convert it into a single-dimensional list."
   ]
  },
  {
   "cell_type": "code",
   "execution_count": 456,
   "id": "7afdaf95-dd56-4f33-83f3-dbf92a279354",
   "metadata": {},
   "outputs": [],
   "source": [
    "nested_list = [[1, 2, [3, 4]], [5, 6], [7, 8, [9, 10]]]"
   ]
  },
  {
   "cell_type": "code",
   "execution_count": 458,
   "id": "3eca235b-2dfb-4e17-ae5c-5f9249a3b316",
   "metadata": {},
   "outputs": [
    {
     "name": "stdout",
     "output_type": "stream",
     "text": [
      "Flattened list: [1, 2, 3, 4, 5, 6, 7, 8, 9, 10]\n"
     ]
    }
   ],
   "source": [
    "def flatten_list(nested):\n",
    "    flat_list = []\n",
    "    for item in nested:\n",
    "        if isinstance(item, list):\n",
    "            flat_list.extend(flatten_list(item))  \n",
    "        else:\n",
    "            flat_list.append(item)\n",
    "    return flat_list\n",
    "\n",
    "flat_list = flatten_list(nested_list)\n",
    "print(\"Flattened list:\", flat_list)"
   ]
  },
  {
   "cell_type": "markdown",
   "id": "0fe24394-7339-48cc-86e1-eca7880fce39",
   "metadata": {},
   "source": [
    "## 61. Nested List Sorting: Given a nested list containing lists of integers, write a Python program to sort the sublists based on their lengths."
   ]
  },
  {
   "cell_type": "code",
   "execution_count": 460,
   "id": "1d784753-b0c6-432f-bd99-ce83bea9aa5c",
   "metadata": {},
   "outputs": [],
   "source": [
    "nested_list = [[1, 2, 3], [4, 5], [6, 7, 8, 9], [10]]"
   ]
  },
  {
   "cell_type": "code",
   "execution_count": 462,
   "id": "900ee783-9564-4def-8c0a-d580329b62d4",
   "metadata": {},
   "outputs": [
    {
     "name": "stdout",
     "output_type": "stream",
     "text": [
      "Sorted nested list: [[10], [4, 5], [1, 2, 3], [6, 7, 8, 9]]\n"
     ]
    }
   ],
   "source": [
    "sorted_nested_list = sorted(nested_list, key=len)\n",
    "print(\"Sorted nested list:\", sorted_nested_list)"
   ]
  },
  {
   "cell_type": "markdown",
   "id": "43bc4787-63c0-4521-83bd-c41019977dd6",
   "metadata": {},
   "source": [
    "## 62. List of Tuples Conversion: Given a nested list containing tuples of (x, y) coordinates, write a Python program to convert it into a list of x-coordinates and a list of y-coordinates."
   ]
  },
  {
   "cell_type": "code",
   "execution_count": 464,
   "id": "8a7409c3-3121-4997-b6eb-d531cfac7f48",
   "metadata": {},
   "outputs": [],
   "source": [
    "nested_list = [[(1, 2), (3, 4)], [(5, 6), (7, 8)], [(9, 10), (11, 12)]]"
   ]
  },
  {
   "cell_type": "code",
   "execution_count": 234,
   "id": "42715977-0c07-4b75-98ad-9546bb03612f",
   "metadata": {},
   "outputs": [],
   "source": [
    "x_coordinates = []\n",
    "y_coordinates = []\n",
    "for sublist in nested_list:\n",
    "    for (x, y) in sublist:\n",
    "        x_coordinates.append(x)\n",
    "        y_coordinates.append(y)"
   ]
  },
  {
   "cell_type": "code",
   "execution_count": 466,
   "id": "90fabb3a-bd3e-451f-8a99-0af9b6b06983",
   "metadata": {},
   "outputs": [
    {
     "name": "stdout",
     "output_type": "stream",
     "text": [
      "List of x-coordinates: [1, 3, 5, 7, 9, 11]\n",
      "List of y-coordinates: [2, 4, 6, 8, 10, 12]\n"
     ]
    }
   ],
   "source": [
    "print(\"List of x-coordinates:\", x_coordinates)\n",
    "print(\"List of y-coordinates:\", y_coordinates)"
   ]
  },
  {
   "cell_type": "markdown",
   "id": "761b6eab-3cc2-48cd-a574-8784a9dde69e",
   "metadata": {},
   "source": [
    "## 63. Matrix Transpose: Write a Python program to transpose a given matrix represented as a nested list."
   ]
  },
  {
   "cell_type": "code",
   "execution_count": 468,
   "id": "70c97f60-6d61-4b83-b9a2-afa454950d06",
   "metadata": {},
   "outputs": [],
   "source": [
    "matrix = [\n",
    "    [1, 2, 3],\n",
    "    [4, 5, 6],\n",
    "    [7, 8, 9]\n",
    "]"
   ]
  },
  {
   "cell_type": "code",
   "execution_count": 470,
   "id": "f9c99a2e-caf5-4f76-8a6a-594253e5e82a",
   "metadata": {},
   "outputs": [
    {
     "name": "stdout",
     "output_type": "stream",
     "text": [
      "Transposed matrix:\n",
      "[1, 4, 7]\n",
      "[2, 5, 8]\n",
      "[3, 6, 9]\n"
     ]
    }
   ],
   "source": [
    "transpose = []\n",
    "for i in range(len(matrix[0])):\n",
    "    new_row = []\n",
    "    for row in matrix:\n",
    "        new_row.append(row[i])\n",
    "    transpose.append(new_row)\n",
    "print(\"Transposed matrix:\")\n",
    "for row in transpose:\n",
    "    print(row)"
   ]
  },
  {
   "cell_type": "markdown",
   "id": "ae0b103a-f55a-473b-9535-ececc6296dee",
   "metadata": {},
   "source": [
    "## 64. Nested List Concatenation: Given a list of nested lists, write a Python program to concatenate all the sublists into a single flat list."
   ]
  },
  {
   "cell_type": "code",
   "execution_count": 472,
   "id": "6214c4ea-d5f3-40da-aadc-19cdba6b6764",
   "metadata": {},
   "outputs": [],
   "source": [
    "nested_lists = [[1, 2, 3], [4, 5], [6, 7, 8, 9]]"
   ]
  },
  {
   "cell_type": "code",
   "execution_count": 474,
   "id": "3726d6d4-0609-439b-ac35-6f18568a62bf",
   "metadata": {},
   "outputs": [
    {
     "name": "stdout",
     "output_type": "stream",
     "text": [
      "Concatenated flat list: [1, 2, 3, 4, 5, 6, 7, 8, 9]\n"
     ]
    }
   ],
   "source": [
    "flat_list = []\n",
    "for sublist in nested_lists:\n",
    "    flat_list.extend(sublist)\n",
    "print(\"Concatenated flat list:\", flat_list)"
   ]
  },
  {
   "cell_type": "markdown",
   "id": "19b63996-1196-4b0a-8eab-7fd0a8a599c4",
   "metadata": {},
   "source": [
    "## 65. Count Even Numbers: Write a Python program to count the number of even numbers in a nested list."
   ]
  },
  {
   "cell_type": "code",
   "execution_count": 476,
   "id": "3f09dcbe-cfd6-4984-9849-d1c971ebb074",
   "metadata": {},
   "outputs": [],
   "source": [
    "nested_list = [[1, 2, 3], [4, 5, 6], [7, 8, 9]]"
   ]
  },
  {
   "cell_type": "code",
   "execution_count": 478,
   "id": "78aa4c79-86db-4ca4-b1cb-ea66126a37c1",
   "metadata": {},
   "outputs": [
    {
     "name": "stdout",
     "output_type": "stream",
     "text": [
      "Number of even numbers: 4\n"
     ]
    }
   ],
   "source": [
    "even_count = 0\n",
    "for sublist in nested_list:\n",
    "    for num in sublist:\n",
    "        if num % 2 == 0:  \n",
    "            even_count += 1\n",
    "print(\"Number of even numbers:\", even_count)"
   ]
  },
  {
   "cell_type": "markdown",
   "id": "73082701-5970-494e-9c73-c19f43cfab40",
   "metadata": {},
   "source": [
    "## 66. Maximum Element in Nested List: Write a Python program to find the maximum element in a nested list of integers."
   ]
  },
  {
   "cell_type": "code",
   "execution_count": 480,
   "id": "1422fb5c-127b-430a-ba7f-28df81d88c02",
   "metadata": {},
   "outputs": [],
   "source": [
    "nested_list = [[1, 2, 3], [4, 5, 6], [7, 8, 9]]"
   ]
  },
  {
   "cell_type": "code",
   "execution_count": 482,
   "id": "f694fe22-05c9-4575-9e49-7957a18edbbb",
   "metadata": {},
   "outputs": [
    {
     "name": "stdout",
     "output_type": "stream",
     "text": [
      "Maximum element in the nested list: 9\n"
     ]
    }
   ],
   "source": [
    "max_element = nested_list[0][0]\n",
    "for sublist in nested_list:\n",
    "    for num in sublist:\n",
    "        if num > max_element:\n",
    "            max_element = num\n",
    "\n",
    "print(\"Maximum element in the nested list:\", max_element)"
   ]
  },
  {
   "cell_type": "markdown",
   "id": "b5b64ad1-1dcb-46b3-b5c1-3bd0b49eaedd",
   "metadata": {},
   "source": [
    "## 67. Diagonal Sum of Matrix: Given a square matrix represented as a nested list, write a Python program to calculate the sum of the elements in the main diagonal."
   ]
  },
  {
   "cell_type": "code",
   "execution_count": 484,
   "id": "227efe2b-8b8a-476b-8f71-02c88f2f717e",
   "metadata": {},
   "outputs": [],
   "source": [
    "matrix = [\n",
    "    [1, 2, 3],\n",
    "    [4, 5, 6],\n",
    "    [7, 8, 9]\n",
    "]"
   ]
  },
  {
   "cell_type": "code",
   "execution_count": 486,
   "id": "2eb4db56-d181-4a4e-9410-668f9b16f424",
   "metadata": {},
   "outputs": [
    {
     "name": "stdout",
     "output_type": "stream",
     "text": [
      "Sum of the main diagonal: 15\n"
     ]
    }
   ],
   "source": [
    "diagonal_sum = 0\n",
    "for i in range(len(matrix)):\n",
    "    diagonal_sum += matrix[i][i] \n",
    "\n",
    "print(\"Sum of the main diagonal:\", diagonal_sum)"
   ]
  },
  {
   "cell_type": "markdown",
   "id": "e9c4a17c-f0a1-489c-845c-231a494829b9",
   "metadata": {},
   "source": [
    "## 68. Nested List Element Search: Write a Python program to search for a specific element in a nested list and return its position (row and column indices)."
   ]
  },
  {
   "cell_type": "code",
   "execution_count": 488,
   "id": "8eab35bc-1960-40c7-9d50-67600e93da8b",
   "metadata": {},
   "outputs": [],
   "source": [
    "nested_list = [\n",
    "    [1, 2, 3],\n",
    "    [4, 5, 6],\n",
    "    [7, 8, 9]\n",
    "]\n"
   ]
  },
  {
   "cell_type": "code",
   "execution_count": 490,
   "id": "c121f323-83bf-4b84-a8c2-d6f31f210a29",
   "metadata": {},
   "outputs": [
    {
     "name": "stdout",
     "output_type": "stream",
     "text": [
      "Element 9 found at position: (2, 2)\n"
     ]
    }
   ],
   "source": [
    "target = 9\n",
    "found = False\n",
    "for i in range(len(nested_list)):\n",
    "    for j in range(len(nested_list[i])):\n",
    "        if nested_list[i][j] == target:\n",
    "            print(f\"Element {target} found at position: ({i}, {j})\")\n",
    "            found = True\n",
    "            break"
   ]
  },
  {
   "cell_type": "markdown",
   "id": "352a2314-9434-418a-8d94-6a3a99fe064b",
   "metadata": {},
   "source": [
    "## Set Problems"
   ]
  },
  {
   "cell_type": "markdown",
   "id": "2aa39878-878a-438d-bcd1-87176ecb8bf8",
   "metadata": {},
   "source": [
    "## 69. Duplicate Removal: Write a Python program that takes a list of elements as input and creates a new set containing only the unique elements from the list."
   ]
  },
  {
   "cell_type": "code",
   "execution_count": 492,
   "id": "47b54078-6449-4dd9-b308-f0416031108a",
   "metadata": {},
   "outputs": [
    {
     "name": "stdout",
     "output_type": "stream",
     "text": [
      "Unique elements: {1, 2, 3, 4, 5}\n"
     ]
    }
   ],
   "source": [
    "input_list = [1, 2, 3, 2, 4, 5, 3, 1]\n",
    "unique_elements = set(input_list)\n",
    "print(\"Unique elements:\", unique_elements)"
   ]
  },
  {
   "cell_type": "markdown",
   "id": "41b201f8-0b42-4681-8bb2-ee75eafe9e48",
   "metadata": {},
   "source": [
    "## 70. Set Intersection: Given two sets A and B, write a Python program to find their intersection and print the common elements."
   ]
  },
  {
   "cell_type": "code",
   "execution_count": 494,
   "id": "caf71a8a-96b2-495d-9c3c-e2064d14effe",
   "metadata": {},
   "outputs": [
    {
     "name": "stdout",
     "output_type": "stream",
     "text": [
      "Common elements: {4, 5}\n"
     ]
    }
   ],
   "source": [
    "def find_intersection(set_a, set_b):\n",
    "    return set_a.intersection(set_b)\n",
    "set_a = {1, 2, 3, 4, 5}\n",
    "set_b = {4, 5, 6, 7, 8}\n",
    "common_elements = find_intersection(set_a, set_b)\n",
    "print(\"Common elements:\", common_elements)"
   ]
  },
  {
   "cell_type": "markdown",
   "id": "978927b1-0732-42f1-afab-77651ce652cf",
   "metadata": {},
   "source": [
    "## 71. Set Union: Given two sets A and B, write a Python program to find their union and print all the distinct elements from both sets."
   ]
  },
  {
   "cell_type": "code",
   "execution_count": 496,
   "id": "e28f7448-cee1-48f6-8565-47ec3889a418",
   "metadata": {},
   "outputs": [
    {
     "name": "stdout",
     "output_type": "stream",
     "text": [
      "Union of sets: {1, 2, 3, 4, 5, 7, 8, 9, 10, 11}\n"
     ]
    }
   ],
   "source": [
    "def union(set_a, set_b):\n",
    "    return set_a.union(set_b)\n",
    "set_a = {1, 2, 3, 4, 5}\n",
    "set_b = {7, 8,9,10,11}\n",
    "all_distinct_elements = union(set_a, set_b)\n",
    "print(\"Union of sets:\", all_distinct_elements)"
   ]
  },
  {
   "cell_type": "markdown",
   "id": "07e2e059-409e-43f0-b187-1ee6a3e474d1",
   "metadata": {},
   "source": [
    "## 72. Set Difference: Given two sets A and B, write a Python program to find the difference between set A and set B (i.e., elements present in A but not in B) and print the result."
   ]
  },
  {
   "cell_type": "code",
   "execution_count": 500,
   "id": "028cca23-bd5e-47f4-a4d9-8fe79abfcff7",
   "metadata": {},
   "outputs": [
    {
     "name": "stdout",
     "output_type": "stream",
     "text": [
      "Elements in A but not in B: {1, 2, 3, 4, 5}\n"
     ]
    }
   ],
   "source": [
    "def find_difference(set_a, set_b):\n",
    "    return set_a.difference(set_b)\n",
    "\n",
    "set_a = {1, 2, 3, 4, 5}\n",
    "set_b = {7, 8,9,10,11}\n",
    "difference_a_b = find_difference(set_a, set_b)\n",
    "print(\"Elements in A but not in B:\", difference_a_b)    "
   ]
  },
  {
   "cell_type": "markdown",
   "id": "29b2837a-987d-4f7e-b485-c184eadde7f8",
   "metadata": {},
   "source": [
    "## 73. Set Symmetric Difference: Given two sets A and B, write a Python program to find the symmetric difference between the two sets (i.e., elements that are present in either set A or set B, but not in both) and print the result."
   ]
  },
  {
   "cell_type": "code",
   "execution_count": 502,
   "id": "455c3f42-34c1-4a00-90f8-ca6261b82e2a",
   "metadata": {},
   "outputs": [
    {
     "name": "stdout",
     "output_type": "stream",
     "text": [
      "Symmetric difference between A and B: {1, 2, 3, 4, 5, 7, 8, 9, 10, 11}\n"
     ]
    }
   ],
   "source": [
    "def find_symmetric_difference(set_a, set_b):\n",
    "    return set_a.symmetric_difference(set_b)\n",
    "set_a = {1, 2, 3, 4, 5}\n",
    "set_b = {7, 8,9,10,11}\n",
    "sym_diff = find_symmetric_difference(set_a, set_b)\n",
    "print(\"Symmetric difference between A and B:\", sym_diff)\n"
   ]
  },
  {
   "cell_type": "markdown",
   "id": "c459c8b6-fbbe-4194-9348-cd8cd7f677aa",
   "metadata": {},
   "source": [
    "## 74. Set Operations: Given three sets A, B, and C, write a Python program to find and print the intersection of A and B, the union of B and C, and the difference between C and A."
   ]
  },
  {
   "cell_type": "code",
   "execution_count": 504,
   "id": "cf9c517a-1cf3-4373-a7fc-6390fbaa92e6",
   "metadata": {},
   "outputs": [],
   "source": [
    "set_a = {1, 2, 3, 4, 5}\n",
    "set_b = {4, 5, 6, 7, 8}\n",
    "set_c = {3, 6, 9, 10}\n"
   ]
  },
  {
   "cell_type": "code",
   "execution_count": 506,
   "id": "78b33aae-a728-4731-a568-f7a98c3b15ed",
   "metadata": {},
   "outputs": [
    {
     "name": "stdout",
     "output_type": "stream",
     "text": [
      "Intersection of A and B: {4, 5}\n",
      "Union of B and C: {3, 4, 5, 6, 7, 8, 9, 10}\n",
      "Difference between C and A: {9, 10, 6}\n"
     ]
    }
   ],
   "source": [
    "intersection_a_b = set_a & set_b\n",
    "union_b_c = set_b | set_c\n",
    "difference_c_a = set_c - set_a \n",
    "print(\"Intersection of A and B:\", intersection_a_b)\n",
    "print(\"Union of B and C:\", union_b_c)\n",
    "print(\"Difference between C and A:\", difference_c_a)"
   ]
  },
  {
   "cell_type": "markdown",
   "id": "83765cd7-e972-4a89-98cd-4fa3936c35fd",
   "metadata": {},
   "source": [
    "## 75. Set Subset Check: Given two sets A and B, write a Python program to check if set A is a subset of set B and print the result."
   ]
  },
  {
   "cell_type": "code",
   "execution_count": 508,
   "id": "1850a60c-c629-4a95-bce1-f1443728af8a",
   "metadata": {},
   "outputs": [
    {
     "name": "stdout",
     "output_type": "stream",
     "text": [
      "Set A is a subset of set B\n"
     ]
    }
   ],
   "source": [
    "def is_subset(set_a, set_b):\n",
    "    return set_a.issubset(set_b)\n",
    "set_a = {1, 2, 3}\n",
    "set_b = {1, 2, 3, 4, 5}\n",
    "result = is_subset(set_a, set_b)\n",
    "if result:\n",
    "    print(\"Set A is a subset of set B\")\n",
    "else:\n",
    "    print(\"Set A is not a subset of set B\")"
   ]
  },
  {
   "cell_type": "markdown",
   "id": "74d8c976-2555-447e-87ab-375fbdfa1148",
   "metadata": {},
   "source": [
    "## 76. Set Superset Check: Given two sets A and B, write a Python program to check if set A is a superset of set B and print the result."
   ]
  },
  {
   "cell_type": "code",
   "execution_count": 510,
   "id": "20cf67bd-c04a-4a41-a85e-32056cedc50d",
   "metadata": {},
   "outputs": [],
   "source": [
    "def is_superset(set_a, set_b):\n",
    "    return set_a.issuperset(set_b)\n",
    "set_a = {1, 2, 3, 4, 5}\n",
    "set_b = {1, 2, 3}"
   ]
  },
  {
   "cell_type": "code",
   "execution_count": 512,
   "id": "0c92f60a-afae-4017-8ad0-00a8544a6b09",
   "metadata": {},
   "outputs": [
    {
     "name": "stdout",
     "output_type": "stream",
     "text": [
      "Set A is a superset of set B\n"
     ]
    }
   ],
   "source": [
    "result = is_superset(set_a, set_b)\n",
    "if result:\n",
    "    print(\"Set A is a superset of set B\")\n",
    "else:\n",
    "    print(\"Set A is not a superset of set B\")"
   ]
  },
  {
   "cell_type": "markdown",
   "id": "9158a694-f464-4fc0-9028-c7914aaf7f7f",
   "metadata": {},
   "source": [
    "## 77. Set Length Check: Write a Python program that takes a set as input and prints the number of elements in the set."
   ]
  },
  {
   "cell_type": "code",
   "execution_count": 514,
   "id": "2a7750d5-5ad0-4dc5-b0cd-f4625573e171",
   "metadata": {},
   "outputs": [
    {
     "name": "stdout",
     "output_type": "stream",
     "text": [
      "The number of elements in the set: 5\n"
     ]
    }
   ],
   "source": [
    "def print_set_length(input_set):\n",
    "    length = len(input_set)\n",
    "    print(\"The number of elements in the set:\", length)\n",
    "input_set = {1, 2, 3, 4, 5}\n",
    "print_set_length(input_set)"
   ]
  },
  {
   "cell_type": "markdown",
   "id": "e2e2ba79-1442-4dbb-9c38-c5e0fe95bb4b",
   "metadata": {},
   "source": [
    "## 76. Set Membership Test: Write a Python program that takes an element as input and checks if it exists in a given set. Print “Found” if the element is present and “Not Found” otherwise."
   ]
  },
  {
   "cell_type": "code",
   "execution_count": 516,
   "id": "9d5e3b73-03d8-42dd-a143-c51caa76082c",
   "metadata": {},
   "outputs": [],
   "source": [
    "my_set = {6,7,8,9,11,12}"
   ]
  },
  {
   "cell_type": "code",
   "execution_count": 518,
   "id": "b4b60b1a-147f-44a7-b895-bce5b2f4f9aa",
   "metadata": {},
   "outputs": [
    {
     "name": "stdin",
     "output_type": "stream",
     "text": [
      "Enter an element to check for membership in the set:  7\n"
     ]
    }
   ],
   "source": [
    "element = int(input(\"Enter an element to check for membership in the set: \"))"
   ]
  },
  {
   "cell_type": "code",
   "execution_count": 520,
   "id": "c6845505-c390-474c-aac7-334adcd203e5",
   "metadata": {},
   "outputs": [
    {
     "name": "stdout",
     "output_type": "stream",
     "text": [
      "Found\n"
     ]
    }
   ],
   "source": [
    "if element in my_set:\n",
    "    print(\"Found\")\n",
    "else:\n",
    "    print(\"Not Found\")\n",
    "    "
   ]
  },
  {
   "cell_type": "markdown",
   "id": "9b36b7fd-76b6-4968-a242-d5defa364bd6",
   "metadata": {},
   "source": [
    "## Dictionary Problems:"
   ]
  },
  {
   "cell_type": "markdown",
   "id": "f110dc57-1d55-4cac-894b-faacb83dbc0b",
   "metadata": {},
   "source": [
    "## 77. Dictionary Manipulation: Given a dictionary with student names as keys and their corresponding scores as values, write a Python program to add a new student to the dictionary and update the score of an existing student."
   ]
  },
  {
   "cell_type": "code",
   "execution_count": 528,
   "id": "dadc1bf1-781d-4e96-b03f-877f60abcd24",
   "metadata": {},
   "outputs": [],
   "source": [
    "students_scores = {\n",
    "    \"Sanjana\": 85,\n",
    "    \"Bably\": 90,\n",
    "    \"mili\": 78\n",
    "}\n",
    "new_student = \"Shimul\"\n",
    "new_score = 88\n",
    "students_scores[new_student] = new_score"
   ]
  },
  {
   "cell_type": "code",
   "execution_count": 524,
   "id": "67c6e048-1c63-41fe-a3ac-6991d5ad8d7d",
   "metadata": {},
   "outputs": [],
   "source": [
    "existing_student = \"Sanjana\"\n",
    "updated_score = 95\n",
    "students_scores[existing_student] = updated_score"
   ]
  },
  {
   "cell_type": "code",
   "execution_count": 526,
   "id": "5584c343-29f7-448b-98ba-92385c77be5e",
   "metadata": {},
   "outputs": [
    {
     "name": "stdout",
     "output_type": "stream",
     "text": [
      "Updated student scores:\n",
      "Sanjana: 95\n",
      "Bably: 90\n",
      "mili: 78\n",
      "Shimul: 88\n"
     ]
    }
   ],
   "source": [
    "print(\"Updated student scores:\")\n",
    "for student, score in students_scores.items():\n",
    "    print(f\"{student}: {score}\")"
   ]
  },
  {
   "cell_type": "markdown",
   "id": "56fc1d96-5897-4c21-9c9a-c7f829f921f0",
   "metadata": {},
   "source": [
    "## 78. Dictionary Keys and Values: Write a Python program that takes a dictionary as input and prints all the keys and values in separate lines."
   ]
  },
  {
   "cell_type": "code",
   "execution_count": 530,
   "id": "d124ac2b-cb55-4446-9cd9-192a87a798eb",
   "metadata": {},
   "outputs": [
    {
     "name": "stdout",
     "output_type": "stream",
     "text": [
      "Keys:\n",
      "Alice\n",
      "Bob\n",
      "Charlie\n",
      "David\n"
     ]
    }
   ],
   "source": [
    "student_scores = {\n",
    "    \"Alice\": 85,\n",
    "    \"Bob\": 90,\n",
    "    \"Charlie\": 78,\n",
    "    \"David\": 88\n",
    "}\n",
    "print(\"Keys:\")\n",
    "for key in student_scores.keys():\n",
    "    print(key)"
   ]
  },
  {
   "cell_type": "code",
   "execution_count": 532,
   "id": "8fe44ea3-258c-46f3-907c-9eeee89b5c8d",
   "metadata": {},
   "outputs": [
    {
     "name": "stdout",
     "output_type": "stream",
     "text": [
      "\n",
      "Values:\n",
      "85\n",
      "90\n",
      "78\n",
      "88\n"
     ]
    }
   ],
   "source": [
    "print(\"\\nValues:\")\n",
    "for value in student_scores.values():\n",
    "    print(value)"
   ]
  },
  {
   "cell_type": "markdown",
   "id": "f67606d7-18ee-487c-9bc5-5038af253a15",
   "metadata": {},
   "source": [
    "## 79. Dictionary Length: Write a Python program to calculate and print the number of key-value pairs in a given dictionary."
   ]
  },
  {
   "cell_type": "code",
   "execution_count": 534,
   "id": "acf66cf4-e78a-482a-935c-861d87547367",
   "metadata": {},
   "outputs": [],
   "source": [
    "def print_dictionary_length(input_dict):\n",
    "    length = len(input_dict)\n",
    "    print(\"Number of key-value pairs in the dictionary:\", length)"
   ]
  },
  {
   "cell_type": "code",
   "execution_count": 536,
   "id": "53d4e708-4add-4bdf-a689-6ea1f272129e",
   "metadata": {},
   "outputs": [
    {
     "name": "stdout",
     "output_type": "stream",
     "text": [
      "Number of key-value pairs in the dictionary: 4\n"
     ]
    }
   ],
   "source": [
    "student_scores = {\n",
    "    \"Alice\": 85,\n",
    "    \"Bob\": 90,\n",
    "    \"Charlie\": 78,\n",
    "    \"David\": 88\n",
    "}\n",
    "print_dictionary_length(student_scores)"
   ]
  },
  {
   "cell_type": "markdown",
   "id": "b0afd734-5d8b-431c-87ac-4574706cf164",
   "metadata": {},
   "source": [
    "## 80. Dictionary Value Search: Given a dictionary of items and their prices, write a Python program to search for an item based on its price and print the item’s name."
   ]
  },
  {
   "cell_type": "code",
   "execution_count": 538,
   "id": "3775cf2c-faff-410f-ba96-5399bbcd9e6f",
   "metadata": {},
   "outputs": [
    {
     "name": "stdin",
     "output_type": "stream",
     "text": [
      "Enter the price to search for:  5\n"
     ]
    }
   ],
   "source": [
    "items_prices = {\n",
    "    \"Apple\": 2.80,\n",
    "    \"Lichi\": 0.75,\n",
    "    \"Mango\": 2.00,\n",
    "    \"Date\": 3.00\n",
    "}\n",
    "search_price = float(input(\"Enter the price to search for: \"))"
   ]
  },
  {
   "cell_type": "code",
   "execution_count": 540,
   "id": "2ec4dda8-1ffe-4cde-9697-a1d34f77c0b9",
   "metadata": {},
   "outputs": [
    {
     "name": "stdout",
     "output_type": "stream",
     "text": [
      "No item found with that price.\n"
     ]
    }
   ],
   "source": [
    "item_found = False\n",
    "for item, price in items_prices.items():\n",
    "    if price == search_price:\n",
    "        print(\"Item found:\", item)\n",
    "        item_found = True\n",
    "        break\n",
    "\n",
    "if not item_found:\n",
    "    print(\"No item found with that price.\")"
   ]
  },
  {
   "cell_type": "markdown",
   "id": "6a73299c-de57-4e4a-a43b-9c87069a20c3",
   "metadata": {},
   "source": [
    "## 81. Dictionary Merging: Given two dictionaries, write a Python program to merge them into a single dictionary and print the result."
   ]
  },
  {
   "cell_type": "code",
   "execution_count": 542,
   "id": "891088f9-381b-4534-9286-43990e35a4da",
   "metadata": {},
   "outputs": [],
   "source": [
    "def merge_dictionaries(dict1, dict2):\n",
    "    merged_dict = {**dict1, **dict2}  \n",
    "    return merged_dict"
   ]
  },
  {
   "cell_type": "code",
   "execution_count": 544,
   "id": "0b79800c-c6c9-4755-b930-9eceae535fe0",
   "metadata": {},
   "outputs": [],
   "source": [
    "dict_a = {\n",
    "    \"Alice\": 85,\n",
    "    \"Bob\": 90\n",
    "}\n",
    "\n",
    "dict_b = {\n",
    "    \"Charlie\": 78,\n",
    "    \"David\": 88\n",
    "}"
   ]
  },
  {
   "cell_type": "code",
   "execution_count": 546,
   "id": "c563c8fb-037f-4e40-b9cc-c89d8172171f",
   "metadata": {},
   "outputs": [
    {
     "name": "stdout",
     "output_type": "stream",
     "text": [
      "Merged dictionary: {'Alice': 85, 'Bob': 90, 'Charlie': 78, 'David': 88}\n"
     ]
    }
   ],
   "source": [
    "merged_result = merge_dictionaries(dict_a, dict_b)\n",
    "print(\"Merged dictionary:\", merged_result)"
   ]
  },
  {
   "cell_type": "markdown",
   "id": "a51117c9-3b62-4ca4-9efd-2d28a4a7d654",
   "metadata": {},
   "source": [
    "## 82. Dictionary Key Removal: Given a dictionary of items and their quantities, write a Python program to remove a specific item from the dictionary based on user input."
   ]
  },
  {
   "cell_type": "code",
   "execution_count": 549,
   "id": "fb31156f-703c-4b25-a1d1-d574f45e7b49",
   "metadata": {},
   "outputs": [],
   "source": [
    "def remove_item(item_dict, item_to_remove):\n",
    "    if item_to_remove in item_dict:\n",
    "        del item_dict[item_to_remove]\n",
    "        print(f\"Item '{item_to_remove}' has been removed.\")\n",
    "    else:\n",
    "        print(f\"Item '{item_to_remove}' not found in the dictionary.\")"
   ]
  },
  {
   "cell_type": "code",
   "execution_count": 553,
   "id": "9b9e544e-9cca-4e8c-af1d-ee8276fdb779",
   "metadata": {},
   "outputs": [
    {
     "name": "stdin",
     "output_type": "stream",
     "text": [
      "Enter the item to remove:  Dates\n"
     ]
    },
    {
     "name": "stdout",
     "output_type": "stream",
     "text": [
      "Item 'Dates' has been removed.\n",
      "Updated dictionary: {'Apples': 10, 'Bananas': 20, 'Cherries': 15}\n"
     ]
    }
   ],
   "source": [
    "items_quantities = {\n",
    "    \"Apples\": 10,\n",
    "    \"Bananas\": 20,\n",
    "    \"Cherries\": 15,\n",
    "    \"Dates\": 5\n",
    "}\n",
    "item_to_remove = input(\"Enter the item to remove: \")\n",
    "remove_item(items_quantities, item_to_remove)\n",
    "print(\"Updated dictionary:\", items_quantities)"
   ]
  },
  {
   "cell_type": "markdown",
   "id": "283b8453-b16e-45fd-ad40-54bde846f2eb",
   "metadata": {},
   "source": [
    "## 83. Dictionary Sorting: Given a dictionary with names as keys and corresponding ages as values, write a Python program to sort the dictionary based on age in ascending order."
   ]
  },
  {
   "cell_type": "code",
   "execution_count": 560,
   "id": "b263e329-a2df-4b7f-8fd7-67d52ef23130",
   "metadata": {},
   "outputs": [],
   "source": [
    "ages = {\n",
    "    \"Ali\": 25,\n",
    "    \"Bably\": 30,\n",
    "    \"Chamile\": 20,\n",
    "    \"Dina\": 28\n",
    "}"
   ]
  },
  {
   "cell_type": "code",
   "execution_count": 562,
   "id": "083f2058-d056-4595-8754-bb73c1598f5b",
   "metadata": {},
   "outputs": [
    {
     "name": "stdout",
     "output_type": "stream",
     "text": [
      "{'Chamile': 20, 'Ali': 25, 'Dina': 28, 'Bably': 30}\n"
     ]
    }
   ],
   "source": [
    "sorted_ages = dict(sorted(ages.items(), key=lambda item: item[1]))\n",
    "print(sorted_ages)"
   ]
  },
  {
   "cell_type": "markdown",
   "id": "f36e9f3c-152b-4264-b46c-743ff2612006",
   "metadata": {},
   "source": [
    "## 84. Dictionary Frequency Count: Write a Python program that takes a string as input and creates a dictionary containing each character as a key and its frequency as the value."
   ]
  },
  {
   "cell_type": "code",
   "execution_count": 571,
   "id": "2c0f0d73-0276-4515-b0f1-afcdca218511",
   "metadata": {},
   "outputs": [],
   "source": [
    "def character_frequency(input_string):\n",
    "    frequency_dict = {}\n",
    "    \n",
    "    for char in input_string:\n",
    "        if char in frequency_dict:\n",
    "            frequency_dict[char] += 1\n",
    "        else:\n",
    "            frequency_dict[char] = 1\n",
    "            \n",
    "    return frequency_dict"
   ]
  },
  {
   "cell_type": "code",
   "execution_count": 575,
   "id": "76f33f74-ed67-418d-b3d2-e9a25e1e84ed",
   "metadata": {},
   "outputs": [
    {
     "name": "stdin",
     "output_type": "stream",
     "text": [
      "Enter a string:  Bangladesh\n"
     ]
    },
    {
     "name": "stdout",
     "output_type": "stream",
     "text": [
      "Character frequency: {'B': 1, 'a': 2, 'n': 1, 'g': 1, 'l': 1, 'd': 1, 'e': 1, 's': 1, 'h': 1}\n"
     ]
    }
   ],
   "source": [
    "input_string = input(\"Enter a string: \")\n",
    "result = character_frequency(input_string)\n",
    "print(\"Character frequency:\", result)"
   ]
  },
  {
   "cell_type": "markdown",
   "id": "6ea09504-38c0-481b-a337-6b043926552d",
   "metadata": {},
   "source": [
    "## 85. Dictionary Comprehension: Given a list of integers, write a Python program to create a dictionary where the keys are the elements from the list, and the values are their squares."
   ]
  },
  {
   "cell_type": "code",
   "execution_count": 578,
   "id": "2a9f9376-11e1-4c36-8b05-4847d950de95",
   "metadata": {},
   "outputs": [],
   "source": [
    "numbers = [1, 2, 3, 4, 5]"
   ]
  },
  {
   "cell_type": "code",
   "execution_count": 580,
   "id": "9ae747a6-6c3d-4e3b-bf83-5739e3d3353d",
   "metadata": {},
   "outputs": [
    {
     "name": "stdout",
     "output_type": "stream",
     "text": [
      "{1: 1, 2: 4, 3: 9, 4: 16, 5: 25}\n"
     ]
    }
   ],
   "source": [
    "squared_dict = {}\n",
    "for num in numbers:\n",
    "    squared_dict[num] = num ** 2\n",
    "print(squared_dict)"
   ]
  },
  {
   "cell_type": "markdown",
   "id": "3d527a68-bbb9-4b11-8c93-be8649b67767",
   "metadata": {},
   "source": [
    "## 86. Dictionary Key Check: Write a Python program that takes a key as input and checks if it exists in a given dictionary. Print “Key Found” if the key is present and “Key Not Found” otherwise."
   ]
  },
  {
   "cell_type": "code",
   "execution_count": 583,
   "id": "b6711050-a66a-4532-8a04-6d41e4f52184",
   "metadata": {},
   "outputs": [],
   "source": [
    "my_dict = {\n",
    "    'name': 'Shimul',\n",
    "    'age': 30,\n",
    "    'city': 'Dhaka'\n",
    "}"
   ]
  },
  {
   "cell_type": "code",
   "execution_count": 585,
   "id": "ccf3f7f5-fcd9-43bc-b7d7-27f4ee34fed9",
   "metadata": {},
   "outputs": [
    {
     "name": "stdin",
     "output_type": "stream",
     "text": [
      "Enter the key you want to check:  age\n"
     ]
    },
    {
     "name": "stdout",
     "output_type": "stream",
     "text": [
      "Key Found\n"
     ]
    }
   ],
   "source": [
    "key_to_check = input(\"Enter the key you want to check: \")\n",
    "if key_to_check in my_dict:\n",
    "    print(\"Key Found\")\n",
    "else:\n",
    "    print(\"Key Not Found\")"
   ]
  },
  {
   "cell_type": "markdown",
   "id": "3636cf7e-9e35-44f0-859c-ce5f24b066be",
   "metadata": {},
   "source": [
    "## Nested Dictionary Problems:"
   ]
  },
  {
   "cell_type": "markdown",
   "id": "102d50cb-48fe-47f8-ae7d-0ddf86a64616",
   "metadata": {},
   "source": [
    "## 87. Access Nested Dictionary: Given a nested dictionary containing student details, write a Python program to access and print specific information such as a student’s name, age, and address."
   ]
  },
  {
   "cell_type": "code",
   "execution_count": 593,
   "id": "2090268d-a806-4d8e-b86f-ce7eef865894",
   "metadata": {},
   "outputs": [],
   "source": [
    "students = {\n",
    "    \"student_1\": {\n",
    "        \"name\": \"Parisa\",\n",
    "        \"age\": 25,\n",
    "        \"address\": \"Dhaka\"\n",
    "    },\n",
    "    \"student_2\": {\n",
    "        \"name\": \"Bably\",\n",
    "        \"age\": 22,\n",
    "        \"address\": \"Mymensingh\"\n",
    "    },\n",
    "    \"student_3\": {\n",
    "        \"name\": \"Shimul\",\n",
    "        \"age\": 21,\n",
    "        \"address\": \"Tangail\"\n",
    "    }\n",
    "}\n"
   ]
  },
  {
   "cell_type": "code",
   "execution_count": 595,
   "id": "1c93597e-bf0c-42e2-aed9-15497ecc6eeb",
   "metadata": {},
   "outputs": [
    {
     "name": "stdin",
     "output_type": "stream",
     "text": [
      "Enter the student key (e.g., 'student_1'):  Prome\n"
     ]
    },
    {
     "name": "stdout",
     "output_type": "stream",
     "text": [
      "Student 'Prome' not found.\n"
     ]
    }
   ],
   "source": [
    "def print_student_info(student_dict, student_key):\n",
    "    if student_key in student_dict:\n",
    "        student = student_dict[student_key]\n",
    "        print(\"Name:\", student[\"name\"])\n",
    "        print(\"Age:\", student[\"age\"])\n",
    "        print(\"Address:\", student[\"address\"])\n",
    "    else:\n",
    "        print(f\"Student '{student_key}' not found.\")\n",
    "student_key = input(\"Enter the student key (e.g., 'student_1'): \")\n",
    "print_student_info(students, student_key)"
   ]
  },
  {
   "cell_type": "markdown",
   "id": "6f209b0a-3a37-4f28-a74b-c568d754c4f8",
   "metadata": {},
   "source": [
    "## 88. Nested Dictionary Length: Write a Python program to calculate and print the total number of key-value pairs in a nested dictionary."
   ]
  },
  {
   "cell_type": "code",
   "execution_count": 598,
   "id": "a3362840-df6c-4f0a-96a7-21308140ebbf",
   "metadata": {},
   "outputs": [
    {
     "name": "stderr",
     "output_type": "stream",
     "text": [
      "<>:5: SyntaxWarning: invalid escape sequence '\\A'\n",
      "<>:5: SyntaxWarning: invalid escape sequence '\\A'\n",
      "C:\\Users\\sanja\\AppData\\Local\\Temp\\ipykernel_22088\\2709558071.py:5: SyntaxWarning: invalid escape sequence '\\A'\n",
      "  \"address\": \"Basundhara R\\A, Dhaka\"\n"
     ]
    }
   ],
   "source": [
    "students = {\n",
    "    \"student1\": {\n",
    "        \"name\": \"Parisa\",\n",
    "        \"age\": 25,\n",
    "        \"address\": \"Basundhara R\\A, Dhaka\"\n",
    "    },\n",
    "    \"student2\": {\n",
    "        \"name\": \"Prome\",\n",
    "        \"age\": 25,\n",
    "        \"address\": \"Mirpur-14,Dhaka\"\n",
    "    }\n",
    "}"
   ]
  },
  {
   "cell_type": "code",
   "execution_count": 600,
   "id": "92ef4d1d-0d68-4f75-aae6-48d774dfe3ab",
   "metadata": {},
   "outputs": [],
   "source": [
    "total_pairs = 0"
   ]
  },
  {
   "cell_type": "code",
   "execution_count": 602,
   "id": "c32108e0-1445-4321-a81f-6768ef971995",
   "metadata": {},
   "outputs": [],
   "source": [
    "for student_id, details in students.items():\n",
    "    total_pairs += len(details) "
   ]
  },
  {
   "cell_type": "code",
   "execution_count": 604,
   "id": "ec9be45c-b417-4001-ada3-3701f421b078",
   "metadata": {},
   "outputs": [
    {
     "name": "stdout",
     "output_type": "stream",
     "text": [
      "Total number of key-value pairs in the nested dictionary: 8\n"
     ]
    }
   ],
   "source": [
    "total_pairs += len(students)\n",
    "print(f\"Total number of key-value pairs in the nested dictionary: {total_pairs}\")"
   ]
  },
  {
   "cell_type": "markdown",
   "id": "d7c39a13-7888-4fd4-8baf-552307583f10",
   "metadata": {},
   "source": [
    "## 89. Nested Dictionary Update: Given a nested dictionary of employee details, write a Python program to update an employee’s salary based on their employee ID."
   ]
  },
  {
   "cell_type": "code",
   "execution_count": 607,
   "id": "b52d4d26-38ea-44aa-9ba9-e31c00b8b211",
   "metadata": {},
   "outputs": [],
   "source": [
    "employees = {\n",
    "    \"emp001\": {\n",
    "        \"name\": \"Parisa\",\n",
    "        \"age\": 25,\n",
    "        \"salary\": 80000\n",
    "    },\n",
    "    \"emp002\": {\n",
    "        \"name\": \"Prome\",\n",
    "        \"age\": 24,\n",
    "        \"salary\": 45000\n",
    "    }\n",
    "}\n"
   ]
  },
  {
   "cell_type": "code",
   "execution_count": 611,
   "id": "c1b61c9a-277a-4f88-8d29-2f77ae97896b",
   "metadata": {},
   "outputs": [
    {
     "name": "stdout",
     "output_type": "stream",
     "text": [
      "Updated salary for Parisa: 60000\n",
      "{'emp001': {'name': 'Parisa', 'age': 25, 'salary': 60000}, 'emp002': {'name': 'Prome', 'age': 24, 'salary': 45000}}\n"
     ]
    }
   ],
   "source": [
    "employee_id = \"emp001\"\n",
    "new_salary = 60000\n",
    "if employee_id in employees:\n",
    "    employees[employee_id]['salary'] = new_salary\n",
    "    print(f\"Updated salary for {employees[employee_id]['name']}: {new_salary}\")\n",
    "else:\n",
    "    print(\"Employee ID not found.\")\n",
    "print(employees)"
   ]
  },
  {
   "cell_type": "markdown",
   "id": "54c7669a-c8cd-47e8-9858-595873d2b155",
   "metadata": {},
   "source": [
    "## 90. Nested Dictionary Sorting: Given a nested dictionary containing product details (product name, price, and quantity), write a Python program to sort the products based on their prices in ascending order."
   ]
  },
  {
   "cell_type": "code",
   "execution_count": 614,
   "id": "27c286a3-c35b-4bbc-bf1a-824ecdc99c2c",
   "metadata": {},
   "outputs": [],
   "source": [
    "products = {\n",
    "    \"product1\": {\n",
    "        \"name\": \"Laptop\",\n",
    "        \"price\": 800,\n",
    "        \"quantity\": 10\n",
    "    },\n",
    "    \"product2\": {\n",
    "        \"name\": \"Smartphone\",\n",
    "        \"price\": 600,\n",
    "        \"quantity\": 15\n",
    "    },\n",
    "    \"product3\": {\n",
    "        \"name\": \"Tablet\",\n",
    "        \"price\": 300,\n",
    "        \"quantity\": 20\n",
    "    }\n",
    "}"
   ]
  },
  {
   "cell_type": "code",
   "execution_count": 616,
   "id": "466cf7b3-152b-4cc8-b23b-e19ac693ce9c",
   "metadata": {},
   "outputs": [
    {
     "name": "stdout",
     "output_type": "stream",
     "text": [
      "Products sorted by price (ascending):\n",
      "ID: product3, Name: Tablet, Price: 300, Quantity: 20\n",
      "ID: product2, Name: Smartphone, Price: 600, Quantity: 15\n",
      "ID: product1, Name: Laptop, Price: 800, Quantity: 10\n"
     ]
    }
   ],
   "source": [
    "sorted_products = sorted(products.items(), key=lambda item: item[1]['price'])\n",
    "print(\"Products sorted by price (ascending):\")\n",
    "for product_id, details in sorted_products:\n",
    "    print(f\"ID: {product_id}, Name: {details['name']}, Price: {details['price']}, Quantity: {details['quantity']}\")"
   ]
  },
  {
   "cell_type": "markdown",
   "id": "29ec5223-8b44-4b0a-bf0e-5bc3486594dc",
   "metadata": {},
   "source": [
    "## 91. Nested Dictionary Key Search: Write a Python program that takes a key as input and searches for it in a nested dictionary. If found, print the corresponding value, otherwise, print “Key Not Found.”"
   ]
  },
  {
   "cell_type": "code",
   "execution_count": 619,
   "id": "1bcec842-c646-4085-b8cd-01fa38d24e0c",
   "metadata": {},
   "outputs": [
    {
     "name": "stderr",
     "output_type": "stream",
     "text": [
      "<>:5: SyntaxWarning: invalid escape sequence '\\A'\n",
      "<>:5: SyntaxWarning: invalid escape sequence '\\A'\n",
      "C:\\Users\\sanja\\AppData\\Local\\Temp\\ipykernel_22088\\1131537882.py:5: SyntaxWarning: invalid escape sequence '\\A'\n",
      "  \"address\": \"Basundhara R\\A, Dhaka\"\n"
     ]
    }
   ],
   "source": [
    "data = {\n",
    "    \"student1\": {\n",
    "        \"name\": \"Sanjana\",\n",
    "        \"age\": 25,\n",
    "        \"address\": \"Basundhara R\\A, Dhaka\"\n",
    "    },\n",
    "    \"student2\": {\n",
    "        \"name\": \" Nura\",\n",
    "        \"age\": 25,\n",
    "        \"address\": \"Uttara, Dhaka\"\n",
    "    }\n",
    "}"
   ]
  },
  {
   "cell_type": "code",
   "execution_count": 621,
   "id": "984ff96c-4bfb-4abd-a34d-101e3cbb0e1d",
   "metadata": {},
   "outputs": [
    {
     "name": "stdin",
     "output_type": "stream",
     "text": [
      "Enter the key to search for:  Parisa\n"
     ]
    },
    {
     "name": "stdout",
     "output_type": "stream",
     "text": [
      "Key Not Found.\n"
     ]
    }
   ],
   "source": [
    "key_to_search = input(\"Enter the key to search for: \")\n",
    "key_found = False\n",
    "for outer_key, inner_dict in data.items():\n",
    "    if key_to_search in inner_dict:\n",
    "        print(inner_dict[key_to_search])\n",
    "        key_found = True\n",
    "        break\n",
    "\n",
    "if not key_found:\n",
    "    print(\"Key Not Found.\")"
   ]
  },
  {
   "cell_type": "code",
   "execution_count": null,
   "id": "be832c13-03fb-48a3-81cd-719f0c9d7746",
   "metadata": {},
   "outputs": [],
   "source": []
  }
 ],
 "metadata": {
  "kernelspec": {
   "display_name": "Python 3 (ipykernel)",
   "language": "python",
   "name": "python3"
  },
  "language_info": {
   "codemirror_mode": {
    "name": "ipython",
    "version": 3
   },
   "file_extension": ".py",
   "mimetype": "text/x-python",
   "name": "python",
   "nbconvert_exporter": "python",
   "pygments_lexer": "ipython3",
   "version": "3.12.4"
  }
 },
 "nbformat": 4,
 "nbformat_minor": 5
}
