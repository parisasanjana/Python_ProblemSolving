{
 "cells": [
  {
   "cell_type": "markdown",
   "id": "6b0c3be3-11a8-46b2-9cbc-dab565181bad",
   "metadata": {},
   "source": [
    "## Python Conditional Statements:"
   ]
  },
  {
   "cell_type": "markdown",
   "id": "9c6d618b-91e2-433a-8744-c1961b960f68",
   "metadata": {},
   "source": [
    "## 11. Positive, Negative, or Zero: Write a Python program that takes a number as input and prints whether it is positive, negative, or zero."
   ]
  },
  {
   "cell_type": "code",
   "execution_count": 192,
   "id": "0fd2161d-ce93-4ff8-9c13-4e24ae9ab315",
   "metadata": {},
   "outputs": [
    {
     "name": "stdin",
     "output_type": "stream",
     "text": [
      "Enter a number -90\n"
     ]
    }
   ],
   "source": [
    "number=int (input (\"Enter a number\"))"
   ]
  },
  {
   "cell_type": "code",
   "execution_count": 194,
   "id": "9859b95f-b787-4063-9f88-5061ca08bcd7",
   "metadata": {},
   "outputs": [
    {
     "name": "stdout",
     "output_type": "stream",
     "text": [
      "-90 negative number.\n"
     ]
    }
   ],
   "source": [
    "if(number>0):\n",
    "    print(number,\"positive number.\")\n",
    "elif (number<0) :\n",
    "    print(number,\"negative number.\")\n",
    "elif(number==0) :\n",
    "    print(number, \"zero\")"
   ]
  },
  {
   "cell_type": "markdown",
   "id": "411f290c-bdad-41be-94d7-d0d15b548b56",
   "metadata": {},
   "source": [
    "## 12. Largest of Three Numbers: Write a Python program that takes three numbers as input and prints the largest among them."
   ]
  },
  {
   "cell_type": "code",
   "execution_count": 197,
   "id": "e31489c2-c085-4891-8666-79bd0a8acdf4",
   "metadata": {},
   "outputs": [
    {
     "name": "stdin",
     "output_type": "stream",
     "text": [
      "Enter the number n1 90\n",
      "Enter the number n2 12\n",
      "Enter the number n3 6\n"
     ]
    }
   ],
   "source": [
    "n1=int(input(\"Enter the number n1\"))\n",
    "n2=int(input(\"Enter the number n2\"))\n",
    "n3=int(input(\"Enter the number n3\"))"
   ]
  },
  {
   "cell_type": "code",
   "execution_count": 199,
   "id": "042988bb-587c-4e29-806a-693019db1df9",
   "metadata": {},
   "outputs": [
    {
     "name": "stdout",
     "output_type": "stream",
     "text": [
      "90 Largest number : 90 12 6\n"
     ]
    }
   ],
   "source": [
    "max=n1\n",
    "if(max<n2):\n",
    "    max=n2\n",
    "elif (max<n3):\n",
    "    max=n3\n",
    "print(max,\"Largest number :\",n1,n2,n3)"
   ]
  },
  {
   "cell_type": "markdown",
   "id": "9699e86a-b1b6-41bd-b81e-ce2a486e2924",
   "metadata": {},
   "source": [
    "## 13. Leap Year Checker: Write a Python program that takes a year as input and determines if it is a leap year or not."
   ]
  },
  {
   "cell_type": "code",
   "execution_count": 202,
   "id": "c0ea1c97-8515-4457-8c14-c36275e7e241",
   "metadata": {},
   "outputs": [
    {
     "name": "stdin",
     "output_type": "stream",
     "text": [
      "Enter a year: 2024\n"
     ]
    }
   ],
   "source": [
    "year=int(input(\"Enter a year:\"))"
   ]
  },
  {
   "cell_type": "code",
   "execution_count": 204,
   "id": "edbf518b-7a65-4843-b5e7-5b3babeff990",
   "metadata": {},
   "outputs": [
    {
     "name": "stdout",
     "output_type": "stream",
     "text": [
      "2024  is a Leap Year.\n"
     ]
    }
   ],
   "source": [
    "if(year%4==0):\n",
    "    print(year,\" is a Leap Year.\")\n",
    "else:\n",
    "    print(year,\" is not a Leap Year.\")"
   ]
  },
  {
   "cell_type": "markdown",
   "id": "c6c55505-999c-4e88-995c-7d55ffd6a840",
   "metadata": {},
   "source": [
    "## 14. Grades Classification: Write a Python program that takes a student’s percentage as input and prints their corresponding grade according to the following criteria: – 90% or above: A+ – 80-89%: A – 70-79%: B – 60-69%: C – Below 60%: Fail"
   ]
  },
  {
   "cell_type": "code",
   "execution_count": 35,
   "id": "3e8cdf2a-3eca-4294-9270-dbf30ba17d23",
   "metadata": {},
   "outputs": [
    {
     "name": "stdin",
     "output_type": "stream",
     "text": [
      "Enter a number: 91\n",
      "Enter a number: 68\n",
      "Enter a number: 80\n",
      "Enter a number: 52\n",
      "Enter a number: 49\n"
     ]
    }
   ],
   "source": [
    "student1=float(input(\"Enter a number:\"))\n",
    "student2=float(input(\"Enter a number:\"))\n",
    "student3=float(input(\"Enter a number:\"))\n",
    "student4=float(input(\"Enter a number:\"))\n",
    "student5=float(input(\"Enter a number:\"))\n"
   ]
  },
  {
   "cell_type": "code",
   "execution_count": 37,
   "id": "cb5ca247-47aa-4615-b4d7-cff33c7806d7",
   "metadata": {},
   "outputs": [
    {
     "name": "stdout",
     "output_type": "stream",
     "text": [
      "percentage 68.0\n"
     ]
    }
   ],
   "source": [
    "per=(91+68+80+52+49)/5\n",
    "print(\"percentage\",per)"
   ]
  },
  {
   "cell_type": "code",
   "execution_count": 39,
   "id": "22af5894-7b6d-458f-9cac-703de748cde0",
   "metadata": {},
   "outputs": [
    {
     "name": "stdout",
     "output_type": "stream",
     "text": [
      "68.0 Grade C\n"
     ]
    }
   ],
   "source": [
    "if(per>=90):\n",
    "    print(per,\"Grade A+\")\n",
    "elif(per>=80):\n",
    "    print(per,\"Grade A\")\n",
    "elif(per>=70):\n",
    "    print(per,\"Grade B\")\n",
    "elif(per>=60):\n",
    "    print(per,\"Grade C\")\n",
    "else:\n",
    "    print(per,\"Fail\")"
   ]
  },
  {
   "cell_type": "markdown",
   "id": "1db25ef4-23af-4a98-9676-3115e5cfd3db",
   "metadata": {},
   "source": [
    "## 15. Vowel or Consonant: Write a Python program that takes a single character as input and determines whether it is a vowel or a consonant."
   ]
  },
  {
   "cell_type": "code",
   "execution_count": 54,
   "id": "dfbb7daf-3208-4cb3-8242-f8c97ef1bef7",
   "metadata": {},
   "outputs": [],
   "source": [
    "def vowel_or_consonant(char):\n",
    "    vowels = 'aeiouAEIOU'\n",
    "    \n",
    "    if len(char) != 1 :\n",
    "        return \"Invalid input.\"\n",
    "    \n",
    "    if char in vowels:\n",
    "        return \"Vowel\"\n",
    "    else:\n",
    "        return \"Consonant\"\n"
   ]
  },
  {
   "cell_type": "code",
   "execution_count": 56,
   "id": "6bc7d347-8017-402f-ad62-667113286387",
   "metadata": {},
   "outputs": [
    {
     "name": "stdin",
     "output_type": "stream",
     "text": [
      "Enter a  character:  P\n"
     ]
    },
    {
     "name": "stdout",
     "output_type": "stream",
     "text": [
      "Consonant\n"
     ]
    }
   ],
   "source": [
    "char = input(\"Enter a  character: \")\n",
    "result = vowel_or_consonant(char)\n",
    "print(result)"
   ]
  },
  {
   "cell_type": "markdown",
   "id": "c823c9e7-8042-4b77-bd83-45850507af28",
   "metadata": {},
   "source": [
    "## 16. Time Classification: Write a Python program that takes the time in hours (24-hour format) as input and prints “Good Morning”, “Good Afternoon”, “Good Evening”, or “Good Night” based on the time."
   ]
  },
  {
   "cell_type": "code",
   "execution_count": 124,
   "id": "0781efa2-fc3c-4857-8e5e-8b67cea375eb",
   "metadata": {},
   "outputs": [
    {
     "name": "stdin",
     "output_type": "stream",
     "text": [
      "Enter the time in hours (0-23):  7\n"
     ]
    }
   ],
   "source": [
    "time = int(input(\"Enter the time in hours (0-23): \"))"
   ]
  },
  {
   "cell_type": "code",
   "execution_count": 126,
   "id": "24131922-8027-4ada-9882-a736c09ad2cf",
   "metadata": {},
   "outputs": [
    {
     "name": "stdout",
     "output_type": "stream",
     "text": [
      "Good Morning\n"
     ]
    }
   ],
   "source": [
    "if time < 0 or time > 23:\n",
    "    print(\"Invalid \")\n",
    "elif time < 12:\n",
    "    print(\"Good Morning\")\n",
    "elif time < 17:\n",
    "    print(\"Good Afternoon\")\n",
    "elif time < 21:\n",
    "    print(\"Good Evening\")\n",
    "else:\n",
    "    print(\"Good Night\")"
   ]
  },
  {
   "cell_type": "markdown",
   "id": "7ac2ff2f-d75c-459c-a2ac-378c9c0aca13",
   "metadata": {},
   "source": [
    "## 17. Triangle Type Checker: Write a Python program that takes three sides of a triangle as input and determines whether it forms an equilateral, isosceles, or scalene triangle"
   ]
  },
  {
   "cell_type": "code",
   "execution_count": 128,
   "id": "b662daf3-edd4-4a02-a331-be1e7d52c842",
   "metadata": {},
   "outputs": [
    {
     "name": "stdin",
     "output_type": "stream",
     "text": [
      "Enter the length of side 1:  12\n",
      "Enter the length of side 2:  8\n",
      "Enter the length of side 3:  21\n"
     ]
    }
   ],
   "source": [
    "side1 = float(input(\"Enter the length of side 1: \"))\n",
    "side2 = float(input(\"Enter the length of side 2: \"))\n",
    "side3 = float(input(\"Enter the length of side 3: \"))"
   ]
  },
  {
   "cell_type": "code",
   "execution_count": 130,
   "id": "701aba3d-a13e-49fb-83cc-2d4eeebbf727",
   "metadata": {},
   "outputs": [
    {
     "name": "stdout",
     "output_type": "stream",
     "text": [
      "The given sides do not form a valid triangle.\n"
     ]
    }
   ],
   "source": [
    "if side1 + side2 > side3 and side1 + side3 > side2 and side2 + side3 > side1:\n",
    "    if side1 == side2 == side3:\n",
    "        print(\"The triangle is Equilateral.\")\n",
    "    elif side1 == side2 or side2 == side3 or side1 == side3:\n",
    "        print(\"The triangle is Isosceles.\")\n",
    "    else:\n",
    "        print(\"The triangle is Scalene.\")\n",
    "else:\n",
    "    print(\"The given sides do not form a valid triangle.\")"
   ]
  },
  {
   "cell_type": "markdown",
   "id": "fb500cf0-3b1f-4470-b2db-8d45d1e9ccc7",
   "metadata": {},
   "source": [
    "## 18. Quadratic Equation Solver: Write a Python program that takes the coefficients (a, b, c) of a quadratic equation as input and calculates and prints the real roots (if they exist) or a message indicating the complex roots."
   ]
  },
  {
   "cell_type": "code",
   "execution_count": 132,
   "id": "e1e5caa5-d1cf-4e39-9dd5-fef03d77ae57",
   "metadata": {},
   "outputs": [
    {
     "name": "stdin",
     "output_type": "stream",
     "text": [
      "Enter coefficient a:  12\n",
      "Enter coefficient b:  9\n",
      "Enter coefficient c:  5\n"
     ]
    }
   ],
   "source": [
    "import math\n",
    "a = float(input(\"Enter coefficient a: \"))\n",
    "b = float(input(\"Enter coefficient b: \"))\n",
    "c = float(input(\"Enter coefficient c: \"))"
   ]
  },
  {
   "cell_type": "code",
   "execution_count": 134,
   "id": "15c86353-d551-41e9-b788-4949cec73137",
   "metadata": {},
   "outputs": [],
   "source": [
    "discriminant = b**2 - 4*a*c"
   ]
  },
  {
   "cell_type": "code",
   "execution_count": 138,
   "id": "aed6c455-3600-4116-b380-a6518e1b7d99",
   "metadata": {},
   "outputs": [
    {
     "name": "stdout",
     "output_type": "stream",
     "text": [
      "The roots are complex: 0.15039667553827052 and -0.9003966755382705\n"
     ]
    }
   ],
   "source": [
    "if discriminant > 0:\n",
    "    root1 = (-b + discriminant**0.5) / (2 * a)\n",
    "    root2 = (-b - discriminant**0.5) / (2 * a)\n",
    "    print(f\"The roots are real and different: {root1} and {root2}\")\n",
    "elif discriminant == 0:\n",
    "    root = -b / (2 * a)\n",
    "    print(f\"The root is real and repeated: {root}\")\n",
    "else:\n",
    "    real_part = -b / (2 * a)\n",
    "    imaginary_part = math.sqrt(-discriminant) / (2 * a)\n",
    "    root1 = real_part + imaginary_part\n",
    "    root2 = real_part - imaginary_part\n",
    "    print(f\"The roots are complex: {root1} and {root2}\")"
   ]
  },
  {
   "cell_type": "markdown",
   "id": "a5b0fd71-5005-4152-95a4-7a6b05871892",
   "metadata": {},
   "source": [
    "## 19. Number Ranges: Write a Python program that takes an integer as input and prints whether the number falls within the ranges: 0-50, 51-100, 101-150, or above 150."
   ]
  },
  {
   "cell_type": "code",
   "execution_count": 140,
   "id": "f79a7fa3-2a68-4e62-b1ec-887a0b44f3a1",
   "metadata": {},
   "outputs": [
    {
     "name": "stdin",
     "output_type": "stream",
     "text": [
      "Enter an integer:  200\n"
     ]
    }
   ],
   "source": [
    "number = int(input(\"Enter an integer: \"))\n"
   ]
  },
  {
   "cell_type": "code",
   "execution_count": 142,
   "id": "e2637dd4-2809-4d65-a2f7-3778291d8adf",
   "metadata": {},
   "outputs": [
    {
     "name": "stdout",
     "output_type": "stream",
     "text": [
      "The number is above 150.\n"
     ]
    }
   ],
   "source": [
    "if 0 <= number <= 50:\n",
    "    print(\"The number is in the range of 0-50.\")\n",
    "elif 51 <= number <= 100:\n",
    "    print(\"The number is in the range of 51-100.\")\n",
    "elif 101 <= number <= 150:\n",
    "    print(\"The number is in the range of 101-150.\")\n",
    "else:\n",
    "    print(\"The number is above 150.\")"
   ]
  },
  {
   "cell_type": "markdown",
   "id": "7fc95b3a-380d-4b2e-888d-e8219c39b4ed",
   "metadata": {},
   "source": [
    "## For and while loops"
   ]
  },
  {
   "cell_type": "markdown",
   "id": "13753ad7-eeb6-473a-be7b-3141f163f426",
   "metadata": {},
   "source": [
    "## 20. Sum of N Numbers: Write a Python program using a for loop to calculate the sum of the first N natural numbers, where N is taken as input from the user."
   ]
  },
  {
   "cell_type": "code",
   "execution_count": 44,
   "id": "a8efed2a-4cde-4f3b-a9e7-02d3a4cd8807",
   "metadata": {},
   "outputs": [
    {
     "name": "stdin",
     "output_type": "stream",
     "text": [
      "Enter the value of N:  12\n"
     ]
    }
   ],
   "source": [
    "\n",
    "N = int(input(\"Enter the value of N: \"))"
   ]
  },
  {
   "cell_type": "code",
   "execution_count": 46,
   "id": "ee7b28ca-e1ed-4864-bccb-54a475912bb7",
   "metadata": {},
   "outputs": [
    {
     "name": "stdout",
     "output_type": "stream",
     "text": [
      "The sum of the first 12 natural numbers is: 78\n"
     ]
    }
   ],
   "source": [
    "sum_natural = 0\n",
    "for num in range(1, N+1):\n",
    "    sum_natural += num\n",
    "print(f\"The sum of the first {N} natural numbers is: {sum_natural}\")"
   ]
  },
  {
   "cell_type": "markdown",
   "id": "bd37bca8-5d9b-46b8-a1de-49ea426d3bcc",
   "metadata": {},
   "source": [
    "## 21. Factorial Calculator: Write a Python program using a while loop to calculate the factorial of a given number N."
   ]
  },
  {
   "cell_type": "code",
   "execution_count": 48,
   "id": "f31450c8-9749-4c6f-aeb5-79fba5be6f3b",
   "metadata": {},
   "outputs": [
    {
     "name": "stdin",
     "output_type": "stream",
     "text": [
      "Enter a value: 5\n"
     ]
    }
   ],
   "source": [
    "n=int(input(\"Enter a value:\"))"
   ]
  },
  {
   "cell_type": "code",
   "execution_count": 50,
   "id": "bf7f0282-fd3a-4b84-8241-c7421c02f600",
   "metadata": {},
   "outputs": [
    {
     "name": "stdout",
     "output_type": "stream",
     "text": [
      "120 Factorial\n"
     ]
    }
   ],
   "source": [
    "fac=1\n",
    "while(n!=0):\n",
    "    fac=fac*n\n",
    "    n=n-1\n",
    "print(fac,\"Factorial\")"
   ]
  },
  {
   "cell_type": "markdown",
   "id": "3a66ca0a-ab39-42ec-a3f0-588875e877f8",
   "metadata": {},
   "source": [
    "## 22. Table of a Number: Write a Python program using a for loop to print the multiplication table of a given number N."
   ]
  },
  {
   "cell_type": "code",
   "execution_count": 14,
   "id": "9f69924e-31ad-4bb3-add8-55fc9d0afdfa",
   "metadata": {},
   "outputs": [
    {
     "name": "stdin",
     "output_type": "stream",
     "text": [
      "Enter a value 7\n"
     ]
    }
   ],
   "source": [
    "n=int(input(\"Enter a value\"))"
   ]
  },
  {
   "cell_type": "code",
   "execution_count": 19,
   "id": "4aa4c6d5-8af8-4601-979e-23ad95b213dd",
   "metadata": {},
   "outputs": [
    {
     "name": "stdout",
     "output_type": "stream",
     "text": [
      "7 X 1 = 7\n",
      "7 X 2 = 14\n",
      "7 X 3 = 21\n",
      "7 X 4 = 28\n",
      "7 X 5 = 35\n",
      "7 X 6 = 42\n",
      "7 X 7 = 49\n",
      "7 X 8 = 56\n",
      "7 X 9 = 63\n",
      "7 X 10 = 70\n"
     ]
    }
   ],
   "source": [
    "for i in range(10):\n",
    "    mul=(i+1)*n\n",
    "    print (n, \"X\",i+1,\"=\",mul)"
   ]
  },
  {
   "cell_type": "markdown",
   "id": "1fab160c-84a5-4acf-b23a-495dc2391e13",
   "metadata": {},
   "source": [
    "## 23. Count Digits in a Number: Write a Python program using a while loop to count the number of digits in a given integer N."
   ]
  },
  {
   "cell_type": "code",
   "execution_count": 52,
   "id": "344a0f22-4352-4d44-aac3-ae8f30961dfd",
   "metadata": {},
   "outputs": [
    {
     "name": "stdin",
     "output_type": "stream",
     "text": [
      "Enter an integer:  12\n"
     ]
    }
   ],
   "source": [
    "N = int(input(\"Enter an integer: \"))"
   ]
  },
  {
   "cell_type": "code",
   "execution_count": 54,
   "id": "cd748b7c-0c95-4af1-81ad-3a68d758fe91",
   "metadata": {},
   "outputs": [],
   "source": [
    "count = 0\n",
    "if N == 0:\n",
    "    count = 1\n",
    "else:\n",
    "    N = abs(N)"
   ]
  },
  {
   "cell_type": "code",
   "execution_count": 56,
   "id": "c4cc6e3d-5358-4ffd-a8cd-f365c5cd0b02",
   "metadata": {},
   "outputs": [
    {
     "name": "stdout",
     "output_type": "stream",
     "text": [
      "The number of digits is: 2\n"
     ]
    }
   ],
   "source": [
    "while N > 0:\n",
    "    N //= 10  \n",
    "    count += 1 \n",
    "print(f\"The number of digits is: {count}\")"
   ]
  },
  {
   "cell_type": "markdown",
   "id": "1c8dd11e-2112-4a0e-90ff-89969bfd847a",
   "metadata": {},
   "source": [
    "## 24. Fibonacci Sequence: Write a Python program using a for loop to generate the Fibonacci sequence up to a given limit N."
   ]
  },
  {
   "cell_type": "code",
   "execution_count": 21,
   "id": "8d9c2342-ddd5-4aa8-894d-db1f06188970",
   "metadata": {},
   "outputs": [
    {
     "name": "stdin",
     "output_type": "stream",
     "text": [
      "Enter the value 9\n"
     ]
    }
   ],
   "source": [
    "f_num=int(input(\"Enter the value\"))"
   ]
  },
  {
   "cell_type": "code",
   "execution_count": 23,
   "id": "61dd5934-37f0-40aa-a714-21f4c48e8d59",
   "metadata": {},
   "outputs": [
    {
     "name": "stdout",
     "output_type": "stream",
     "text": [
      "0 1 1 2 3 5 8 13 21 "
     ]
    }
   ],
   "source": [
    "a=0\n",
    "b=1\n",
    "for i in range(f_num):\n",
    "    print(a,end=\" \")\n",
    "    c=a+b\n",
    "    a=b\n",
    "    b=c"
   ]
  },
  {
   "cell_type": "markdown",
   "id": "c23409f1-3cd1-44fe-a336-f06a2562327a",
   "metadata": {},
   "source": [
    "## 25. Sum of Even Numbers: Write a Python program using a while loop to calculate the sum of all even numbers between 1 and N, where N is taken as input from the user."
   ]
  },
  {
   "cell_type": "code",
   "execution_count": 36,
   "id": "5482fef9-a90e-403c-bd6d-11eb1dc979bb",
   "metadata": {},
   "outputs": [
    {
     "name": "stdin",
     "output_type": "stream",
     "text": [
      "Enter a number 15\n"
     ]
    }
   ],
   "source": [
    "n=int(input(\"Enter a number\"))"
   ]
  },
  {
   "cell_type": "code",
   "execution_count": 38,
   "id": "4b77bf9b-3618-433a-8394-215da7ac481a",
   "metadata": {},
   "outputs": [
    {
     "name": "stdout",
     "output_type": "stream",
     "text": [
      "The sum of even numbers 15 is: 56\n"
     ]
    }
   ],
   "source": [
    "sum = 0\n",
    "num = 2\n",
    "while num <= n:\n",
    "    sum += num\n",
    "    num += 2\n",
    "print(f\"The sum of even numbers {n} is: {sum}\")"
   ]
  },
  {
   "cell_type": "markdown",
   "id": "04bdbd9c-caaf-4942-a7cc-69d31c28f294",
   "metadata": {},
   "source": [
    "## 26. Print Patterns: Write a Python program using nested for loops to print various patterns, such as a right-angled triangle, an inverted right-angled triangle, and so on."
   ]
  },
  {
   "cell_type": "code",
   "execution_count": 58,
   "id": "3c957237-762d-4e6e-ba6f-89684e57a581",
   "metadata": {},
   "outputs": [
    {
     "name": "stdin",
     "output_type": "stream",
     "text": [
      "Enter the number of rows:  5\n"
     ]
    }
   ],
   "source": [
    "n = int(input(\"Enter the number of rows: \"))"
   ]
  },
  {
   "cell_type": "code",
   "execution_count": 60,
   "id": "262e8bad-2350-44f3-83eb-c0db90967410",
   "metadata": {},
   "outputs": [
    {
     "name": "stdout",
     "output_type": "stream",
     "text": [
      "Right-Angled Triangle Pattern:\n",
      "* \n",
      "* * \n",
      "* * * \n",
      "* * * * \n",
      "* * * * * \n"
     ]
    }
   ],
   "source": [
    "print(\"Right-Angled Triangle Pattern:\")\n",
    "for i in range(1, n + 1):\n",
    "    for j in range(1, i + 1):\n",
    "        print(\"*\", end=\" \")\n",
    "    print()"
   ]
  },
  {
   "cell_type": "markdown",
   "id": "9438c708-d247-42db-afb6-37d3d19063ca",
   "metadata": {},
   "source": [
    "## 27. Prime Number Checker: Write a Python program using a while loop to check if a given number N is prime or not."
   ]
  },
  {
   "cell_type": "code",
   "execution_count": 160,
   "id": "eb6831a0-3e1c-415d-9241-a8e2d3f78c78",
   "metadata": {},
   "outputs": [
    {
     "name": "stdin",
     "output_type": "stream",
     "text": [
      "Enter a value 89\n"
     ]
    }
   ],
   "source": [
    "p=int(input(\"Enter a value\"))"
   ]
  },
  {
   "cell_type": "code",
   "execution_count": 164,
   "id": "ecbcf069-b619-4947-8640-eb332663999e",
   "metadata": {},
   "outputs": [
    {
     "name": "stdout",
     "output_type": "stream",
     "text": [
      "89 is a prime number.\n"
     ]
    }
   ],
   "source": [
    "i = 2\n",
    "is_prime = True\n",
    "if p <= 1:\n",
    "    is_prime = False \n",
    "else:\n",
    "    while i < p:\n",
    "        if p % i == 0:\n",
    "            is_prime = False  \n",
    "            break\n",
    "        i += 1\n",
    "if is_prime:\n",
    "    print(f\"{p} is a prime number.\")\n",
    "else:\n",
    "    print(f\"{p} is not a prime number.\")"
   ]
  },
  {
   "cell_type": "markdown",
   "id": "12d08535-991a-4150-a924-fd7ce2b7ef7f",
   "metadata": {},
   "source": [
    "## 28. List Manipulation: Given a list of integers, write a Python program using a for loop to find the sum, average, maximum, and minimum values in the list."
   ]
  },
  {
   "cell_type": "code",
   "execution_count": 68,
   "id": "d5780516-85d4-4aa3-9bd1-21795c1d59cb",
   "metadata": {},
   "outputs": [],
   "source": [
    "numbers = [12, 45, 67, 23, 89, 10, 34]"
   ]
  },
  {
   "cell_type": "code",
   "execution_count": 70,
   "id": "e4b5bcc0-951d-4422-ad2b-fcc5a90afac1",
   "metadata": {},
   "outputs": [],
   "source": [
    "total_sum = 0\n",
    "max_value = numbers[0]\n",
    "min_value = numbers[0]"
   ]
  },
  {
   "cell_type": "code",
   "execution_count": 74,
   "id": "28c3b07c-28ad-499c-83d3-49cf8a894f46",
   "metadata": {},
   "outputs": [],
   "source": [
    "for num in numbers:\n",
    "    total_sum += num \n",
    "    if num > max_value:\n",
    "        max_value = num  \n",
    "    if num < min_value:\n",
    "        min_value = num \n",
    "average = total_sum / len(numbers)\n"
   ]
  },
  {
   "cell_type": "code",
   "execution_count": 76,
   "id": "c64114bf-1215-4fea-9835-f9000076e54e",
   "metadata": {},
   "outputs": [
    {
     "name": "stdout",
     "output_type": "stream",
     "text": [
      "Sum: 560\n",
      "Average: 80.0\n",
      "Maximum: 89\n",
      "Minimum: 10\n"
     ]
    }
   ],
   "source": [
    "print(f\"Sum: {total_sum}\")\n",
    "print(f\"Average: {average}\")\n",
    "print(f\"Maximum: {max_value}\")\n",
    "print(f\"Minimum: {min_value}\")"
   ]
  },
  {
   "cell_type": "markdown",
   "id": "e65cb21e-e31c-4624-9016-584c5f6a5750",
   "metadata": {},
   "source": [
    "## 29. Reverse String: Write a Python program using a while loop to reverse a given string."
   ]
  },
  {
   "cell_type": "code",
   "execution_count": 87,
   "id": "ad9e2397-ff23-48d9-bad8-b0a99de1ea21",
   "metadata": {},
   "outputs": [
    {
     "name": "stdin",
     "output_type": "stream",
     "text": [
      "Enter a string:  Parisa\n"
     ]
    }
   ],
   "source": [
    "s = input(\"Enter a string: \")"
   ]
  },
  {
   "cell_type": "code",
   "execution_count": 93,
   "id": "c0d989b5-d6e2-48c7-9600-84ccb8454fbd",
   "metadata": {},
   "outputs": [
    {
     "name": "stdout",
     "output_type": "stream",
     "text": [
      "Reversed string: asiraP\n"
     ]
    }
   ],
   "source": [
    "reversed_string = \"\"\n",
    "i = len(s) - 1\n",
    "while i >= 0:\n",
    "    reversed_string += s[i] \n",
    "    i -= 1  \n",
    "print(\"Reversed string:\", reversed_string)"
   ]
  },
  {
   "cell_type": "markdown",
   "id": "b0c3af54-6d1a-4b4e-9afe-736eb42c02ec",
   "metadata": {},
   "source": [
    "## Nasted Loop"
   ]
  },
  {
   "cell_type": "markdown",
   "id": "032ddb25-bc22-4ae9-a25e-d315a22a16ec",
   "metadata": {},
   "source": [
    "## 30. Multiplication Table: Write a Python program using nested loops to print the multiplication table from 1 to 10."
   ]
  },
  {
   "cell_type": "code",
   "execution_count": 145,
   "id": "a96fa83d-854c-4605-92a7-7ea32cf31b44",
   "metadata": {},
   "outputs": [
    {
     "name": "stdout",
     "output_type": "stream",
     "text": [
      "1 x 1 = 1\n",
      "1 x 2 = 2\n",
      "1 x 3 = 3\n",
      "1 x 4 = 4\n",
      "1 x 5 = 5\n",
      "1 x 6 = 6\n",
      "1 x 7 = 7\n",
      "1 x 8 = 8\n",
      "1 x 9 = 9\n",
      "1 x 10 = 10\n",
      "\n",
      "2 x 1 = 2\n",
      "2 x 2 = 4\n",
      "2 x 3 = 6\n",
      "2 x 4 = 8\n",
      "2 x 5 = 10\n",
      "2 x 6 = 12\n",
      "2 x 7 = 14\n",
      "2 x 8 = 16\n",
      "2 x 9 = 18\n",
      "2 x 10 = 20\n",
      "\n",
      "3 x 1 = 3\n",
      "3 x 2 = 6\n",
      "3 x 3 = 9\n",
      "3 x 4 = 12\n",
      "3 x 5 = 15\n",
      "3 x 6 = 18\n",
      "3 x 7 = 21\n",
      "3 x 8 = 24\n",
      "3 x 9 = 27\n",
      "3 x 10 = 30\n",
      "\n",
      "4 x 1 = 4\n",
      "4 x 2 = 8\n",
      "4 x 3 = 12\n",
      "4 x 4 = 16\n",
      "4 x 5 = 20\n",
      "4 x 6 = 24\n",
      "4 x 7 = 28\n",
      "4 x 8 = 32\n",
      "4 x 9 = 36\n",
      "4 x 10 = 40\n",
      "\n",
      "5 x 1 = 5\n",
      "5 x 2 = 10\n",
      "5 x 3 = 15\n",
      "5 x 4 = 20\n",
      "5 x 5 = 25\n",
      "5 x 6 = 30\n",
      "5 x 7 = 35\n",
      "5 x 8 = 40\n",
      "5 x 9 = 45\n",
      "5 x 10 = 50\n",
      "\n",
      "6 x 1 = 6\n",
      "6 x 2 = 12\n",
      "6 x 3 = 18\n",
      "6 x 4 = 24\n",
      "6 x 5 = 30\n",
      "6 x 6 = 36\n",
      "6 x 7 = 42\n",
      "6 x 8 = 48\n",
      "6 x 9 = 54\n",
      "6 x 10 = 60\n",
      "\n",
      "7 x 1 = 7\n",
      "7 x 2 = 14\n",
      "7 x 3 = 21\n",
      "7 x 4 = 28\n",
      "7 x 5 = 35\n",
      "7 x 6 = 42\n",
      "7 x 7 = 49\n",
      "7 x 8 = 56\n",
      "7 x 9 = 63\n",
      "7 x 10 = 70\n",
      "\n",
      "8 x 1 = 8\n",
      "8 x 2 = 16\n",
      "8 x 3 = 24\n",
      "8 x 4 = 32\n",
      "8 x 5 = 40\n",
      "8 x 6 = 48\n",
      "8 x 7 = 56\n",
      "8 x 8 = 64\n",
      "8 x 9 = 72\n",
      "8 x 10 = 80\n",
      "\n",
      "9 x 1 = 9\n",
      "9 x 2 = 18\n",
      "9 x 3 = 27\n",
      "9 x 4 = 36\n",
      "9 x 5 = 45\n",
      "9 x 6 = 54\n",
      "9 x 7 = 63\n",
      "9 x 8 = 72\n",
      "9 x 9 = 81\n",
      "9 x 10 = 90\n",
      "\n",
      "10 x 1 = 10\n",
      "10 x 2 = 20\n",
      "10 x 3 = 30\n",
      "10 x 4 = 40\n",
      "10 x 5 = 50\n",
      "10 x 6 = 60\n",
      "10 x 7 = 70\n",
      "10 x 8 = 80\n",
      "10 x 9 = 90\n",
      "10 x 10 = 100\n",
      "\n"
     ]
    }
   ],
   "source": [
    "for i in range(1, 11):  \n",
    "    for j in range(1, 11): \n",
    "        product = i * j\n",
    "        print(f\"{i} x {j} = {product}\")\n",
    "    print() "
   ]
  },
  {
   "cell_type": "markdown",
   "id": "12d65b53-1a8c-4cb3-bac9-1f74201e2bd6",
   "metadata": {},
   "source": [
    "## 31. Print Patterns: Write a Python program using nested loops to print the following pattern:"
   ]
  },
  {
   "cell_type": "code",
   "execution_count": 148,
   "id": "92964626-a878-4667-be13-3c8dd54e5233",
   "metadata": {},
   "outputs": [
    {
     "name": "stdout",
     "output_type": "stream",
     "text": [
      "*\n",
      "**\n",
      "***\n",
      "****\n",
      "*****\n"
     ]
    }
   ],
   "source": [
    "n = 5\n",
    "for i in range(1, n + 1):  \n",
    "    for j in range(i):  \n",
    "        print(\"*\", end=\"\")  \n",
    "    print() "
   ]
  },
  {
   "cell_type": "markdown",
   "id": "243ce69e-1e78-4cf9-bb1a-d9b8834e3495",
   "metadata": {},
   "source": [
    "## 32. Matrix Multiplication: Write a Python program using nested loops to multiply two matrices"
   ]
  },
  {
   "cell_type": "code",
   "execution_count": 180,
   "id": "863de718-02ad-4bfd-b09a-031280a39a99",
   "metadata": {},
   "outputs": [],
   "source": [
    "def matrix_multiply(A, B):\n",
    "    rows_A = len(A)\n",
    "    cols_A = len(A[0])\n",
    "    rows_B = len(B)\n",
    "    cols_B = len(B[0])\n",
    "  \n",
    "    if cols_A != rows_B:\n",
    "        print(\"Matrix multiplication is not possible.\")\n",
    "        return None\n",
    "    result = [[0 for _ in range(cols_B)] for _ in range(rows_A)]   \n",
    "    for i in range(rows_A):\n",
    "        for j in range(cols_B):\n",
    "            for k in range(cols_A): \n",
    "                result[i][j] += A[i][k] * B[k][j]\n",
    "    return result"
   ]
  },
  {
   "cell_type": "code",
   "execution_count": 182,
   "id": "49704545-e106-40c5-a373-73a74f8810e8",
   "metadata": {},
   "outputs": [
    {
     "name": "stdout",
     "output_type": "stream",
     "text": [
      "Result of matrix multiplication:\n",
      "[58, 64]\n",
      "[139, 154]\n"
     ]
    }
   ],
   "source": [
    "A = [\n",
    "    [1, 2, 3],\n",
    "    [4, 5, 6]\n",
    "]\n",
    "\n",
    "B = [\n",
    "    [7, 8],\n",
    "    [9, 10],\n",
    "    [11, 12]\n",
    "]\n",
    "result = matrix_multiply(A, B)\n",
    "if result is not None:\n",
    "    print(\"Result of matrix multiplication:\")\n",
    "    for row in result:\n",
    "        print(row)"
   ]
  },
  {
   "cell_type": "markdown",
   "id": "918e6209-41a7-47b7-9c24-bc92f573be05",
   "metadata": {},
   "source": [
    "## 33. Chessboard Pattern: Write a Python program using nested loops to print a chessboard pattern (alternating “X” and “O” characters) of size 8×8.34. Number Pyramid: Write a Python program using nested loops to print a number pyramid like the following: 1 22 333 4444 55555"
   ]
  },
  {
   "cell_type": "code",
   "execution_count": null,
   "id": "05aee45c-36e4-40b4-9e36-742e1eb5a5a3",
   "metadata": {},
   "outputs": [],
   "source": []
  },
  {
   "cell_type": "code",
   "execution_count": 177,
   "id": "575f3f8a-a5dc-46f9-90e1-ddcab8e436d1",
   "metadata": {},
   "outputs": [
    {
     "name": "stdout",
     "output_type": "stream",
     "text": [
      "X O X O X O X O X O \n",
      "O X O X O X O X O X \n",
      "X O X O X O X O X O \n",
      "O X O X O X O X O X \n",
      "X O X O X O X O X O \n",
      "O X O X O X O X O X \n",
      "X O X O X O X O X O \n",
      "O X O X O X O X O X \n",
      "X O X O X O X O X O \n",
      "O X O X O X O X O X \n"
     ]
    }
   ],
   "source": [
    "size = 10\n",
    "for i in range(size):  \n",
    "    for j in range(size): \n",
    "        if (i + j) % 2 == 0:\n",
    "            print(\"X\", end=\" \")\n",
    "        else:\n",
    "            print(\"O\", end=\" \")\n",
    "    print() "
   ]
  }
 ],
 "metadata": {
  "kernelspec": {
   "display_name": "Python 3 (ipykernel)",
   "language": "python",
   "name": "python3"
  },
  "language_info": {
   "codemirror_mode": {
    "name": "ipython",
    "version": 3
   },
   "file_extension": ".py",
   "mimetype": "text/x-python",
   "name": "python",
   "nbconvert_exporter": "python",
   "pygments_lexer": "ipython3",
   "version": "3.12.4"
  }
 },
 "nbformat": 4,
 "nbformat_minor": 5
}
