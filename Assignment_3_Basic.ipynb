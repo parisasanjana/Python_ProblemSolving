{
 "cells": [
  {
   "cell_type": "markdown",
   "id": "36be572a-7fea-4708-b005-a81a4a4ce05e",
   "metadata": {},
   "source": [
    "## Basic Problems:"
   ]
  },
  {
   "cell_type": "markdown",
   "id": "945652e1-bb5f-4b38-8500-ad50b65a932a",
   "metadata": {},
   "source": [
    "## 1. Variable Swap: Write a Python program to swap the values of two variables without using a temporary variable."
   ]
  },
  {
   "cell_type": "code",
   "execution_count": 2,
   "id": "b3636105-f3f6-49cf-a6dc-2af2dfad97b3",
   "metadata": {},
   "outputs": [
    {
     "name": "stdin",
     "output_type": "stream",
     "text": [
      "Enter a number n1: 12\n",
      "Enter a number n2: 24\n"
     ]
    },
    {
     "name": "stdout",
     "output_type": "stream",
     "text": [
      "swap n1 and n2 value:  24 : 12\n"
     ]
    }
   ],
   "source": [
    "n1 = int(input('Enter a number n1:'))\n",
    "n2 = int(input('Enter a number n2:'))\n",
    "n1,n2=n2,n1\n",
    "print(\"swap n1 and n2 value: \",n1,\":\",n2)"
   ]
  },
  {
   "cell_type": "markdown",
   "id": "0927f208-1021-41cc-9a29-f0ac99778728",
   "metadata": {},
   "source": [
    "## 2. Even or Odd: Write a Python program that takes an integer as input and prints whether it is even or odd."
   ]
  },
  {
   "cell_type": "code",
   "execution_count": 4,
   "id": "86f67e8f-f8c9-44bd-a573-723914418e3f",
   "metadata": {},
   "outputs": [
    {
     "name": "stdin",
     "output_type": "stream",
     "text": [
      "Enter a number: 33\n"
     ]
    }
   ],
   "source": [
    "a=int(input(\"Enter a number:\"))"
   ]
  },
  {
   "cell_type": "code",
   "execution_count": 8,
   "id": "8efd8426-33ba-4867-88ba-719e4b9aa3e5",
   "metadata": {},
   "outputs": [
    {
     "name": "stdout",
     "output_type": "stream",
     "text": [
      "33 is odd number\n"
     ]
    }
   ],
   "source": [
    "if (a%2==0):\n",
    "    print(a,\"is Even number\")\n",
    "else:\n",
    "    print(a,\"is odd number\")"
   ]
  },
  {
   "cell_type": "markdown",
   "id": "63d74932-ce03-4a26-82d4-1c7bf176beb0",
   "metadata": {},
   "source": [
    "## 3. String Reverse: Write a Python function to reverse a given string and return the reversed string."
   ]
  },
  {
   "cell_type": "code",
   "execution_count": 10,
   "id": "a519adaa-8433-4157-9140-72c8d0efe8b7",
   "metadata": {},
   "outputs": [
    {
     "name": "stdin",
     "output_type": "stream",
     "text": [
      "Enter a string:  Parisa\n"
     ]
    }
   ],
   "source": [
    "message = input(\"Enter a string: \")\n",
    "def reverseString(message):\n",
    "  revMessage = \"\"\n",
    "  for char in message:\n",
    "    revMessage = char + revMessage\n",
    "  return revMessage\n",
    "\n"
   ]
  },
  {
   "cell_type": "code",
   "execution_count": 12,
   "id": "15d0ec71-c18a-48b8-a72b-8adbde960845",
   "metadata": {},
   "outputs": [
    {
     "name": "stdout",
     "output_type": "stream",
     "text": [
      "asiraP\n"
     ]
    }
   ],
   "source": [
    "\n",
    "revMessage = reverseString(message)\n",
    "print(revMessage)"
   ]
  },
  {
   "cell_type": "markdown",
   "id": "10fdc657-722a-4a8b-bb2d-5448c85c5313",
   "metadata": {},
   "source": [
    "## 4. Type Conversion: Given a list of integers, write a Python program to convert each element of the list to a string."
   ]
  },
  {
   "cell_type": "code",
   "execution_count": 32,
   "id": "e7d88a84-bf96-46df-8795-cd6ee4ef66ae",
   "metadata": {},
   "outputs": [],
   "source": [
    "intList = [10, 20, 30, 40]\n",
    "stringList = []"
   ]
  },
  {
   "cell_type": "code",
   "execution_count": 34,
   "id": "939910c4-c69f-49d0-816b-8409ed101815",
   "metadata": {},
   "outputs": [
    {
     "name": "stdout",
     "output_type": "stream",
     "text": [
      "10\n",
      "20\n",
      "30\n",
      "40\n",
      "['10', '20', '30', '40']\n"
     ]
    }
   ],
   "source": [
    "for number in intList:\n",
    "  stringNumber = str(number)\n",
    "  stringList.append(stringNumber)\n",
    "  print(stringNumber)\n",
    "\n",
    "print(stringList)"
   ]
  },
  {
   "cell_type": "markdown",
   "id": "ce1b1b20-f197-4719-bfea-d1cc708ed05d",
   "metadata": {},
   "source": [
    "## 5. Temperature Converter: Write a Python program that converts a temperature in Celsius to Fahrenheit. Take the Celsius temperature as input from the user."
   ]
  },
  {
   "cell_type": "code",
   "execution_count": 53,
   "id": "18ed7305-1394-4086-9cbf-b1ad464e4486",
   "metadata": {},
   "outputs": [
    {
     "name": "stdin",
     "output_type": "stream",
     "text": [
      "Enter a value: 37\n"
     ]
    }
   ],
   "source": [
    "f_tem= float(input (\"Enter a value:\"))\n",
    "      "
   ]
  },
  {
   "cell_type": "code",
   "execution_count": 55,
   "id": "b6e35631-f42a-4c62-84ac-1fd1ebf79409",
   "metadata": {},
   "outputs": [
    {
     "name": "stdout",
     "output_type": "stream",
     "text": [
      "Fehrenheit: 32.0\n"
     ]
    }
   ],
   "source": [
    "c=0\n",
    "f=(c*1.8)+32\n",
    "print (\"Fehrenheit:\",f)"
   ]
  },
  {
   "cell_type": "markdown",
   "id": "0569307c-5b8f-4107-bfb1-aec6e67c8d29",
   "metadata": {},
   "source": [
    "## 6. Data Type Checker: Write a Python function that takes a variable as input and returns the data type of the variable as a string (e.g., “int”, “float”, “str”, “list”, etc.)."
   ]
  },
  {
   "cell_type": "code",
   "execution_count": 58,
   "id": "648e84c7-5834-4b41-98d0-c61f5718ed0a",
   "metadata": {},
   "outputs": [],
   "source": [
    "def data_type_checker(variable):\n",
    "    return type(variable).__name__\n"
   ]
  },
  {
   "cell_type": "code",
   "execution_count": 60,
   "id": "c7c8ca5a-b104-447a-922e-0b76c28156b2",
   "metadata": {},
   "outputs": [
    {
     "name": "stdin",
     "output_type": "stream",
     "text": [
      "Enter a value: 10\n"
     ]
    },
    {
     "name": "stdout",
     "output_type": "stream",
     "text": [
      "int\n"
     ]
    }
   ],
   "source": [
    "n=int(input(\"Enter a value:\"))\n",
    "checker = data_type_checker (n)\n",
    "print(checker)"
   ]
  },
  {
   "cell_type": "markdown",
   "id": "e4216462-bc91-49f4-9e5d-f61d542d417f",
   "metadata": {},
   "source": [
    "## 7. String Palindrome: Write a Python function to check if a given string is a palindrome or not."
   ]
  },
  {
   "cell_type": "code",
   "execution_count": 62,
   "id": "f0de1ed5-1b6e-49f6-828b-a880de23df57",
   "metadata": {},
   "outputs": [],
   "source": [
    "def checkPalindrome(string):\n",
    "  revString = \"\"\n",
    "  string = string.lower()\n",
    "  for char in string:\n",
    "    revString = char + revString\n",
    "  if string == revString:\n",
    "    return True\n",
    "  else:\n",
    "    return False\n",
    "\n"
   ]
  },
  {
   "cell_type": "code",
   "execution_count": 64,
   "id": "16113864-b8cc-48d7-8486-decf94dda7b3",
   "metadata": {},
   "outputs": [
    {
     "name": "stdin",
     "output_type": "stream",
     "text": [
      "Enter a string:  Madam\n"
     ]
    },
    {
     "name": "stdout",
     "output_type": "stream",
     "text": [
      "Madam is a palindrome.\n"
     ]
    }
   ],
   "source": [
    "string = input(\"Enter a string: \")\n",
    "\n",
    "if checkPalindrome(string):\n",
    "  print(string + \" is a palindrome.\")\n",
    "else:\n",
    "  print(string + \" is not a palindrome.\")"
   ]
  },
  {
   "cell_type": "markdown",
   "id": "a03818e5-a1b4-4f30-aa3c-43679b4756fa",
   "metadata": {},
   "source": [
    "## 8. String Reversal with Slicing: Write a Python function to reverse a given string using slicing."
   ]
  },
  {
   "cell_type": "code",
   "execution_count": 66,
   "id": "bf1c297c-e5c8-429f-8772-c8de44de4f0a",
   "metadata": {},
   "outputs": [
    {
     "name": "stdin",
     "output_type": "stream",
     "text": [
      "Enter a string:  Bangladesh is a rich country\n"
     ]
    },
    {
     "name": "stdout",
     "output_type": "stream",
     "text": [
      "yrtnuoc hcir a si hsedalgnaB\n"
     ]
    }
   ],
   "source": [
    "string = input(\"Enter a string: \")\n",
    "\n",
    "def revString(string):\n",
    "  string = string[::-1]\n",
    "  return string\n",
    "\n",
    "print(revString(string))"
   ]
  },
  {
   "cell_type": "markdown",
   "id": "dff09aee-b5cd-4669-a272-003d0c463cac",
   "metadata": {},
   "source": [
    "## 9. String Concatenation: Write a Python program that takes two strings as input and concatenates them into a single string without using the `+` operator."
   ]
  },
  {
   "cell_type": "code",
   "execution_count": 70,
   "id": "0c457bbe-9acf-40bd-a1f1-6ae842b1d0f0",
   "metadata": {},
   "outputs": [
    {
     "name": "stdin",
     "output_type": "stream",
     "text": [
      "Enter a string:  Hello\n",
      "Enter a string:  USA\n"
     ]
    },
    {
     "name": "stdout",
     "output_type": "stream",
     "text": [
      "HelloUSA\n"
     ]
    }
   ],
   "source": [
    "string1 = input(\"Enter a string: \")\n",
    "string2 = input(\"Enter a string: \")\n",
    "\n",
    "concatString = f\"{string1}{string2}\"\n",
    "print(concatString)"
   ]
  },
  {
   "cell_type": "markdown",
   "id": "b067150c-4dc1-45ca-9534-0a90b8b1050b",
   "metadata": {},
   "source": [
    "## 10. Typecasting Challenge: Given three variables: `a = ‘100’`, `b = 25`, and `c = ‘10.5’`, write a Python program to perform the following operations and print the results: – Convert `a` to an integer and add it to `b`. – Convert `c` to a float and subtract it from the result of the first operation. – Convert the final result to a string and concatenate it with the string ” is the answer.”"
   ]
  },
  {
   "cell_type": "code",
   "execution_count": 72,
   "id": "6a89c87b-0f5a-4248-b8f6-ec38efb1ae5a",
   "metadata": {},
   "outputs": [],
   "source": [
    "a = '100'\n",
    "b = '25'\n",
    "c = '10.5'\n",
    "\n",
    "a = int(a)\n",
    "b = int(b)\n",
    "c = float(c)\n"
   ]
  },
  {
   "cell_type": "code",
   "execution_count": 74,
   "id": "757320f7-1731-4669-845b-aa004bb583aa",
   "metadata": {},
   "outputs": [
    {
     "name": "stdout",
     "output_type": "stream",
     "text": [
      "114.5 is the answer.\n"
     ]
    }
   ],
   "source": [
    "sum = a + b \n",
    "\n",
    "result = sum - c\n",
    "\n",
    "result = str(result)\n",
    "\n",
    "finalResult = f\"{result} is the answer.\"\n",
    "\n",
    "print(finalResult)"
   ]
  }
 ],
 "metadata": {
  "kernelspec": {
   "display_name": "Python 3 (ipykernel)",
   "language": "python",
   "name": "python3"
  },
  "language_info": {
   "codemirror_mode": {
    "name": "ipython",
    "version": 3
   },
   "file_extension": ".py",
   "mimetype": "text/x-python",
   "name": "python",
   "nbconvert_exporter": "python",
   "pygments_lexer": "ipython3",
   "version": "3.12.4"
  }
 },
 "nbformat": 4,
 "nbformat_minor": 5
}
