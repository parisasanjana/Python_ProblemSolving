{
 "cells": [
  {
   "cell_type": "markdown",
   "id": "39315310-4092-4d62-955f-608f90fe45e7",
   "metadata": {},
   "source": [
    "## Break & Continue: "
   ]
  },
  {
   "cell_type": "markdown",
   "id": "02f8738e-4d81-4160-8df1-da7177da49de",
   "metadata": {},
   "source": [
    "## 92. Prime Number Checker: Write a Python program that takes a number as input and determines if it is a prime number or not. Use a `for` loop to check for factors. If a factor is found, `break` out of the loop."
   ]
  },
  {
   "cell_type": "code",
   "execution_count": 3,
   "id": "259f8a27-b93f-49ed-8f87-af78d76e8b34",
   "metadata": {},
   "outputs": [],
   "source": [
    "def is_prime(number):\n",
    "    if number <= 1:\n",
    "        return False  \n",
    "    for i in range(2, int(number ** 0.5) + 1):\n",
    "        if number % i == 0: \n",
    "            return False\n",
    "    return True"
   ]
  },
  {
   "cell_type": "code",
   "execution_count": 5,
   "id": "e5b06f8b-ac38-41d6-b443-70d86c9d4807",
   "metadata": {},
   "outputs": [
    {
     "name": "stdin",
     "output_type": "stream",
     "text": [
      "Enter a number:  79\n"
     ]
    }
   ],
   "source": [
    "num = int(input(\"Enter a number: \"))"
   ]
  },
  {
   "cell_type": "code",
   "execution_count": 7,
   "id": "b971ed3f-f818-44ca-91d7-ccbc6b0157a3",
   "metadata": {},
   "outputs": [
    {
     "name": "stdout",
     "output_type": "stream",
     "text": [
      "79 is a prime number.\n"
     ]
    }
   ],
   "source": [
    "if is_prime(num):\n",
    "    print(num, \"is a prime number.\")\n",
    "else:\n",
    "    print(num, \"is not a prime number.\")"
   ]
  },
  {
   "cell_type": "markdown",
   "id": "0981359e-22da-40e4-a043-b6cf6b6815f2",
   "metadata": {},
   "source": [
    "## 93. Even Number Printer: Write a Python program to print all even numbers from 1 to 20. Use a `for` loop and `continue` to skip odd numbers."
   ]
  },
  {
   "cell_type": "code",
   "execution_count": 10,
   "id": "3c3c48cd-36d4-4687-9c21-c231c7f7bbf8",
   "metadata": {},
   "outputs": [
    {
     "name": "stdout",
     "output_type": "stream",
     "text": [
      "2\n",
      "4\n",
      "6\n",
      "8\n",
      "10\n",
      "12\n",
      "14\n",
      "16\n",
      "18\n",
      "20\n"
     ]
    }
   ],
   "source": [
    "def print_even_numbers():\n",
    "    for num in range(1, 21):  \n",
    "        if num % 2 != 0: \n",
    "            continue\n",
    "        print(num)\n",
    "print_even_numbers()"
   ]
  },
  {
   "cell_type": "markdown",
   "id": "98e7cc3a-f430-4ce1-9418-26f00caa93ff",
   "metadata": {},
   "source": [
    "## 94. Password Validator: Write a Python program that takes a password as input and checks if it meets the following criteria: at least 8 characters long, contains both uppercase and lowercase letters, and has at least one digit. If the password is valid, print “Password accepted.” If not, use `continue` to prompt the user to enter a valid password."
   ]
  },
  {
   "cell_type": "code",
   "execution_count": 13,
   "id": "ce2bbde9-ff65-4198-9333-9a81d4c2caf8",
   "metadata": {},
   "outputs": [
    {
     "name": "stdin",
     "output_type": "stream",
     "text": [
      "Enter a password:  Parisa00\n"
     ]
    },
    {
     "name": "stdout",
     "output_type": "stream",
     "text": [
      "Password accepted.\n"
     ]
    }
   ],
   "source": [
    "while True:\n",
    "    password = input(\"Enter a password: \")\n",
    "    \n",
    "    if (len(password) < 8 or \n",
    "        not any(c.islower() for c in password) or \n",
    "        not any(c.isupper() for c in password) or \n",
    "        not any(c.isdigit() for c in password)):\n",
    "        \n",
    "        print(\"Password does not meet the criteria. Please try again.\")\n",
    "        continue  \n",
    "\n",
    "    print(\"Password accepted.\")\n",
    "    break  "
   ]
  },
  {
   "cell_type": "markdown",
   "id": "39b00e49-8291-47be-a4db-31971268b715",
   "metadata": {},
   "source": [
    "## 95. Divisible by 3 or 5: Write a Python program to print all numbers from 1 to 50 that are divisible by either 3 or 5. Use a `for` loop and `continue` to skip numbers that are not divisible by either 3 or 5."
   ]
  },
  {
   "cell_type": "code",
   "execution_count": 16,
   "id": "8517eb99-41ff-4388-a175-62ea9227e043",
   "metadata": {},
   "outputs": [
    {
     "name": "stdout",
     "output_type": "stream",
     "text": [
      "3\n",
      "5\n",
      "6\n",
      "9\n",
      "10\n",
      "12\n",
      "15\n",
      "18\n",
      "20\n",
      "21\n",
      "24\n",
      "25\n",
      "27\n",
      "30\n",
      "33\n",
      "35\n",
      "36\n",
      "39\n",
      "40\n",
      "42\n",
      "45\n",
      "48\n",
      "50\n"
     ]
    }
   ],
   "source": [
    "for number in range(1, 51):\n",
    "    if number % 3 != 0 and number % 5 != 0:\n",
    "        continue  \n",
    "    print(number)"
   ]
  },
  {
   "cell_type": "markdown",
   "id": "8a012e35-5345-4ba2-9e0a-4ac792c8270e",
   "metadata": {},
   "source": [
    "## 96. Positive Number Sum: Write a Python program that takes positive numbers as input until a negative number is entered. Then, calculate and print the sum of all positive numbers entered. Use a `while` loop and `break` to exit the loop when a negative number is encountered."
   ]
  },
  {
   "cell_type": "code",
   "execution_count": 19,
   "id": "b6eba8c0-d7fd-490a-8606-6fe139ce8664",
   "metadata": {},
   "outputs": [],
   "source": [
    "total_sum = 0"
   ]
  },
  {
   "cell_type": "code",
   "execution_count": 24,
   "id": "a9456284-332b-4241-9663-d3c665960e34",
   "metadata": {},
   "outputs": [
    {
     "name": "stdin",
     "output_type": "stream",
     "text": [
      "Enter a positive number (or a negative number to stop):  8\n",
      "Enter a positive number (or a negative number to stop):  90\n",
      "Enter a positive number (or a negative number to stop):  100\n",
      "Enter a positive number (or a negative number to stop):  1\n",
      "Enter a positive number (or a negative number to stop):  4\n",
      "Enter a positive number (or a negative number to stop):  89\n",
      "Enter a positive number (or a negative number to stop):  -90\n"
     ]
    },
    {
     "name": "stdout",
     "output_type": "stream",
     "text": [
      "The sum of all positive numbers entered is: 434.0\n"
     ]
    }
   ],
   "source": [
    "while True:\n",
    "    number = float(input(\"Enter a positive number (or a negative number to stop): \"))    \n",
    "    if number < 0:\n",
    "        break\n",
    "    total_sum += number \n",
    "print(f\"The sum of all positive numbers entered is: {total_sum}\")"
   ]
  },
  {
   "cell_type": "markdown",
   "id": "16d88d31-1c91-4acf-9faf-639a87ff06e5",
   "metadata": {},
   "source": [
    "## 97. Word Palindrome Checker: Write a Python program that takes a word as input and checks if it is a palindrome (reads the same forwards and backward). Use `continue` to skip checking the word if its length is less than 3 characters."
   ]
  },
  {
   "cell_type": "code",
   "execution_count": 26,
   "id": "915186ed-150c-4041-9a35-b990f943dd67",
   "metadata": {},
   "outputs": [
    {
     "name": "stdin",
     "output_type": "stream",
     "text": [
      "Enter a word (or type 'exit' to quit):  Parisa\n"
     ]
    },
    {
     "name": "stdout",
     "output_type": "stream",
     "text": [
      "Parisa is not a palindrome.\n"
     ]
    },
    {
     "name": "stdin",
     "output_type": "stream",
     "text": [
      "Enter a word (or type 'exit' to quit):  madam\n"
     ]
    },
    {
     "name": "stdout",
     "output_type": "stream",
     "text": [
      "madam is a palindrome.\n"
     ]
    },
    {
     "name": "stdin",
     "output_type": "stream",
     "text": [
      "Enter a word (or type 'exit' to quit):  exit\n"
     ]
    }
   ],
   "source": [
    "while True:\n",
    "    word = input(\"Enter a word (or type 'exit' to quit): \")\n",
    "    \n",
    "    if word.lower() == 'exit':\n",
    "        break\n",
    "    if len(word) < 3:\n",
    "        print(\"Word is too short to check for palindrome.\")\n",
    "        continue  \n",
    "    if word == word[::-1]:\n",
    "        print(f\"{word} is a palindrome.\")\n",
    "    else:\n",
    "        print(f\"{word} is not a palindrome.\")"
   ]
  },
  {
   "cell_type": "markdown",
   "id": "56349da8-6c29-4adb-a5aa-b650fc3b38d2",
   "metadata": {},
   "source": [
    "## 98. Odd Number Finder: Write a Python program to find the first odd number from a list of integers. Use a `for` loop and `break` to stop the loop when the first odd number is found."
   ]
  },
  {
   "cell_type": "code",
   "execution_count": 29,
   "id": "9a19f9ef-0e6c-4dc4-8e93-e48ba6d49d0f",
   "metadata": {},
   "outputs": [],
   "source": [
    "def find_first_odd(numbers):\n",
    "    for number in numbers:\n",
    "        if number % 2 != 0:  \n",
    "            return number  \n",
    "    return None"
   ]
  },
  {
   "cell_type": "code",
   "execution_count": 31,
   "id": "dd566f9d-42eb-4576-b786-429f28f46525",
   "metadata": {},
   "outputs": [
    {
     "name": "stdout",
     "output_type": "stream",
     "text": [
      "The first odd number is: 13\n"
     ]
    }
   ],
   "source": [
    "integer_list = [2, 4, 6, 8, 10, 13, 14, 16]\n",
    "first_odd = find_first_odd(integer_list)\n",
    "if first_odd is not None:\n",
    "    print(\"The first odd number is:\", first_odd)\n",
    "else:\n",
    "    print(\"No odd number found in the list.\")"
   ]
  },
  {
   "cell_type": "markdown",
   "id": "e361035b-e304-46dd-b043-d59feb04ba6a",
   "metadata": {},
   "source": [
    "## 99. Number Guessing Game: Write a Python program that generates a random number between 1 and 100 and lets the user guess the number. Use a `while` loop, `break` when the correct number is guessed, and `continue` to keep prompting the user until they guess correctly."
   ]
  },
  {
   "cell_type": "code",
   "execution_count": 34,
   "id": "1ec8bc49-e791-4274-80a5-872f0038118e",
   "metadata": {},
   "outputs": [],
   "source": [
    "numbers = [2, 4, 6, 8, 10, 3, 12, 14]"
   ]
  },
  {
   "cell_type": "code",
   "execution_count": 36,
   "id": "0f5f5ec7-60a8-4f57-acd9-ab66b79f7d85",
   "metadata": {},
   "outputs": [
    {
     "name": "stdout",
     "output_type": "stream",
     "text": [
      "The first odd number is: 3\n"
     ]
    }
   ],
   "source": [
    "for number in numbers:\n",
    "    if number % 2 != 0:  \n",
    "        print(f\"The first odd number is: {number}\")\n",
    "        break"
   ]
  },
  {
   "cell_type": "markdown",
   "id": "9b9d9af5-0f41-423a-a353-e5ee98a972fc",
   "metadata": {},
   "source": [
    "## 100. Vowel Counter: Write a Python program that takes a string as input and counts the number of vowels (a, e, i, o, u) in it. Use a `for` loop and `continue` to skip counting non-vowel characters."
   ]
  },
  {
   "cell_type": "code",
   "execution_count": 39,
   "id": "72219ad9-5bc0-4f70-9723-c12a57108111",
   "metadata": {},
   "outputs": [],
   "source": [
    "import random\n",
    "random_number = random.randint(1, 100)"
   ]
  },
  {
   "cell_type": "code",
   "execution_count": 41,
   "id": "39befabf-fad5-49e8-837f-bbe0f552d86e",
   "metadata": {},
   "outputs": [
    {
     "name": "stdin",
     "output_type": "stream",
     "text": [
      "Guess the number (between 1 and 100):  99\n"
     ]
    },
    {
     "name": "stdout",
     "output_type": "stream",
     "text": [
      "Too high! Try again.\n"
     ]
    },
    {
     "name": "stdin",
     "output_type": "stream",
     "text": [
      "Guess the number (between 1 and 100):  90\n"
     ]
    },
    {
     "name": "stdout",
     "output_type": "stream",
     "text": [
      "Too high! Try again.\n"
     ]
    },
    {
     "name": "stdin",
     "output_type": "stream",
     "text": [
      "Guess the number (between 1 and 100):  11\n"
     ]
    },
    {
     "name": "stdout",
     "output_type": "stream",
     "text": [
      "Too low! Try again.\n"
     ]
    },
    {
     "name": "stdin",
     "output_type": "stream",
     "text": [
      "Guess the number (between 1 and 100):  100\n"
     ]
    },
    {
     "name": "stdout",
     "output_type": "stream",
     "text": [
      "Too high! Try again.\n"
     ]
    },
    {
     "name": "stdin",
     "output_type": "stream",
     "text": [
      "Guess the number (between 1 and 100):  1\n"
     ]
    },
    {
     "name": "stdout",
     "output_type": "stream",
     "text": [
      "Too low! Try again.\n"
     ]
    },
    {
     "name": "stdin",
     "output_type": "stream",
     "text": [
      "Guess the number (between 1 and 100):  3\n"
     ]
    },
    {
     "name": "stdout",
     "output_type": "stream",
     "text": [
      "Too low! Try again.\n"
     ]
    },
    {
     "name": "stdin",
     "output_type": "stream",
     "text": [
      "Guess the number (between 1 and 100):  7\n"
     ]
    },
    {
     "name": "stdout",
     "output_type": "stream",
     "text": [
      "Too low! Try again.\n"
     ]
    },
    {
     "name": "stdin",
     "output_type": "stream",
     "text": [
      "Guess the number (between 1 and 100):  88\n"
     ]
    },
    {
     "name": "stdout",
     "output_type": "stream",
     "text": [
      "Too high! Try again.\n"
     ]
    },
    {
     "name": "stdin",
     "output_type": "stream",
     "text": [
      "Guess the number (between 1 and 100):  98\n"
     ]
    },
    {
     "name": "stdout",
     "output_type": "stream",
     "text": [
      "Too high! Try again.\n"
     ]
    },
    {
     "name": "stdin",
     "output_type": "stream",
     "text": [
      "Guess the number (between 1 and 100):  20\n"
     ]
    },
    {
     "name": "stdout",
     "output_type": "stream",
     "text": [
      "Too low! Try again.\n"
     ]
    },
    {
     "name": "stdin",
     "output_type": "stream",
     "text": [
      "Guess the number (between 1 and 100):  29\n"
     ]
    },
    {
     "name": "stdout",
     "output_type": "stream",
     "text": [
      "Too low! Try again.\n"
     ]
    },
    {
     "name": "stdin",
     "output_type": "stream",
     "text": [
      "Guess the number (between 1 and 100):  19\n"
     ]
    },
    {
     "name": "stdout",
     "output_type": "stream",
     "text": [
      "Too low! Try again.\n"
     ]
    },
    {
     "name": "stdin",
     "output_type": "stream",
     "text": [
      "Guess the number (between 1 and 100):  120\n"
     ]
    },
    {
     "name": "stdout",
     "output_type": "stream",
     "text": [
      "Too high! Try again.\n"
     ]
    },
    {
     "name": "stdin",
     "output_type": "stream",
     "text": [
      "Guess the number (between 1 and 100):  200\n"
     ]
    },
    {
     "name": "stdout",
     "output_type": "stream",
     "text": [
      "Too high! Try again.\n"
     ]
    },
    {
     "name": "stdin",
     "output_type": "stream",
     "text": [
      "Guess the number (between 1 and 100):  500\n"
     ]
    },
    {
     "name": "stdout",
     "output_type": "stream",
     "text": [
      "Too high! Try again.\n"
     ]
    },
    {
     "name": "stdin",
     "output_type": "stream",
     "text": [
      "Guess the number (between 1 and 100):  -90\n"
     ]
    },
    {
     "name": "stdout",
     "output_type": "stream",
     "text": [
      "Too low! Try again.\n"
     ]
    },
    {
     "name": "stdin",
     "output_type": "stream",
     "text": [
      "Guess the number (between 1 and 100):  17\n"
     ]
    },
    {
     "name": "stdout",
     "output_type": "stream",
     "text": [
      "Too low! Try again.\n"
     ]
    },
    {
     "name": "stdin",
     "output_type": "stream",
     "text": [
      "Guess the number (between 1 and 100):  95\n"
     ]
    },
    {
     "name": "stdout",
     "output_type": "stream",
     "text": [
      "Too high! Try again.\n"
     ]
    },
    {
     "name": "stdin",
     "output_type": "stream",
     "text": [
      "Guess the number (between 1 and 100):  40\n"
     ]
    },
    {
     "name": "stdout",
     "output_type": "stream",
     "text": [
      "Congratulations!40\n"
     ]
    }
   ],
   "source": [
    "while True:\n",
    "    guess = int(input(\"Guess the number (between 1 and 100): \"))\n",
    "    if guess == random_number:\n",
    "        print(f\"Congratulations!{random_number}\")\n",
    "        break  \n",
    "    elif guess < random_number:\n",
    "        print(\"Too low! Try again.\")\n",
    "    else:\n",
    "        print(\"Too high! Try again.\")\n",
    "    continue"
   ]
  },
  {
   "cell_type": "markdown",
   "id": "43bc7d8c-13bc-41f3-8cf5-bef2beb4b2c5",
   "metadata": {},
   "source": [
    "## 101. Unique Characters: Write a Python program that takes a string as input and checks if it contains all unique characters (no character repeats). Use a `for` loop and `break` when a character repeats."
   ]
  },
  {
   "cell_type": "code",
   "execution_count": 44,
   "id": "a0df8e9c-ffeb-4798-bbf0-9a91d5ace456",
   "metadata": {},
   "outputs": [
    {
     "name": "stdin",
     "output_type": "stream",
     "text": [
      "Enter a string:  Parisa\n"
     ]
    }
   ],
   "source": [
    "input_string = input(\"Enter a string: \")\n",
    "seen_characters = set()"
   ]
  },
  {
   "cell_type": "code",
   "execution_count": 46,
   "id": "afdd6cea-6b2d-4691-b99f-5a02557d0898",
   "metadata": {},
   "outputs": [
    {
     "name": "stdout",
     "output_type": "stream",
     "text": [
      "The string does not contain all unique characters.\n"
     ]
    }
   ],
   "source": [
    "for char in input_string:\n",
    "    if char in seen_characters:\n",
    "        print(\"The string does not contain all unique characters.\")\n",
    "        break\n",
    "    seen_characters.add(char)\n",
    "else:\n",
    "    print(\"The string contains all unique characters.\")"
   ]
  },
  {
   "cell_type": "markdown",
   "id": "705b82f2-c37b-472c-aca1-15b5160a2eb0",
   "metadata": {},
   "source": [
    "## Functions Problems:"
   ]
  },
  {
   "cell_type": "markdown",
   "id": "d80bad22-a6b8-4b66-a3c7-4463fa819e14",
   "metadata": {},
   "source": [
    "## 102. Factorial Calculator: Write a Python function called `factorial` that takes an integer as input and returns its factorial. Test the function with different values."
   ]
  },
  {
   "cell_type": "code",
   "execution_count": 50,
   "id": "5e2984a9-c246-4fd6-947a-0710ec8fd01d",
   "metadata": {},
   "outputs": [],
   "source": [
    "def factorial(n):\n",
    "    if n == 0 or n == 1:\n",
    "        return 1\n",
    "    result = 1\n",
    "    for i in range(2, n + 1):\n",
    "        result *= i\n",
    "    \n",
    "    return result"
   ]
  },
  {
   "cell_type": "code",
   "execution_count": 52,
   "id": "6b261352-2201-4d5d-8803-4e3555fef0b2",
   "metadata": {},
   "outputs": [
    {
     "name": "stdin",
     "output_type": "stream",
     "text": [
      "Enter n: 5\n"
     ]
    },
    {
     "name": "stdout",
     "output_type": "stream",
     "text": [
      "Factorial of 5 is: 120\n"
     ]
    }
   ],
   "source": [
    "fac=int(input(\"Enter n:\"))\n",
    "print(f\"Factorial of 5 is: {factorial(fac)}\")"
   ]
  },
  {
   "cell_type": "markdown",
   "id": "364ca233-4cca-4275-8af9-b29a4c091f5d",
   "metadata": {},
   "source": [
    "## 103. Palindrome Checker: Write a Python function called `is_palindrome` that takes a string as input and returns `True` if it is a palindrome and `False` otherwise. Test the function with different words."
   ]
  },
  {
   "cell_type": "code",
   "execution_count": 57,
   "id": "e4e6f948-992c-4372-93d6-beab45210042",
   "metadata": {},
   "outputs": [
    {
     "name": "stdin",
     "output_type": "stream",
     "text": [
      "Enter string:  Parisa\n"
     ]
    },
    {
     "name": "stdout",
     "output_type": "stream",
     "text": [
      "False\n"
     ]
    }
   ],
   "source": [
    "def is_palindrome(word):\n",
    "    return word == word[::-1]\n",
    "n=input(\"Enter string: \")\n",
    "n1=n.lower()\n",
    "print(is_palindrome(n1))"
   ]
  },
  {
   "cell_type": "markdown",
   "id": "7b3b05b9-064a-49a5-be2d-d8cc716a35d9",
   "metadata": {},
   "source": [
    "## 104. Even or Odd Checker: Write a Python function called `even_or_odd` that takes an integer as input and returns “Even” if the number is even and “Odd” if the number is odd. Test the function with different numbers."
   ]
  },
  {
   "cell_type": "code",
   "execution_count": 60,
   "id": "ad0ad4a9-4efa-4425-8518-68533eacdb07",
   "metadata": {},
   "outputs": [],
   "source": [
    "def even_or_odd(number):\n",
    "    if number % 2 == 0:\n",
    "        return \"Even\"\n",
    "    else:\n",
    "        return \"Odd\""
   ]
  },
  {
   "cell_type": "code",
   "execution_count": 62,
   "id": "61b77828-2dfc-4a71-b5d1-e6bc7def5258",
   "metadata": {},
   "outputs": [
    {
     "name": "stdin",
     "output_type": "stream",
     "text": [
      "Enter number:  79\n"
     ]
    },
    {
     "name": "stdout",
     "output_type": "stream",
     "text": [
      "Odd\n"
     ]
    }
   ],
   "source": [
    "num=int(input(\"Enter number: \"))\n",
    "print(even_or_odd(num)) "
   ]
  },
  {
   "cell_type": "markdown",
   "id": "6cdf0aa3-f784-4e13-997b-9db7781323cd",
   "metadata": {},
   "source": [
    "## 105. List Sum Calculator: Write a Python function called `list_sum` that takes a list of integers as input and returns the sum of all elements in the list. Test the function with different lists."
   ]
  },
  {
   "cell_type": "code",
   "execution_count": 65,
   "id": "b7a2131b-6f2d-4fee-ace0-42854684dab0",
   "metadata": {},
   "outputs": [
    {
     "name": "stdout",
     "output_type": "stream",
     "text": [
      "15\n"
     ]
    }
   ],
   "source": [
    "def list_sum(numbers):\n",
    "    return sum(numbers)\n",
    "print(list_sum([1, 2, 3, 4, 5])) "
   ]
  },
  {
   "cell_type": "markdown",
   "id": "e98a321b-f17b-40da-bccc-67b06afb8932",
   "metadata": {},
   "source": [
    "## 106. Greatest Common Divisor (GCD) Calculator: Write a Python function called `gcd` that takes two integers as input and returns their greatest common divisor. Test the function with different pairs of numbers."
   ]
  },
  {
   "cell_type": "code",
   "execution_count": 68,
   "id": "f0c9d7e6-276f-40df-8069-373703a4fc8f",
   "metadata": {},
   "outputs": [
    {
     "name": "stdin",
     "output_type": "stream",
     "text": [
      "Enter n1:  7\n",
      "Enter n2:  9\n"
     ]
    },
    {
     "name": "stdout",
     "output_type": "stream",
     "text": [
      "1\n"
     ]
    }
   ],
   "source": [
    "def gcd(a, b):\n",
    "    while b != 0:\n",
    "        a, b = b, a % b\n",
    "    return a\n",
    "\n",
    "n1=int(input(\"Enter n1: \"))\n",
    "n2=int(input(\"Enter n2: \"))\n",
    "print(gcd(n1, n2))"
   ]
  },
  {
   "cell_type": "markdown",
   "id": "839a6dd2-a57d-48f2-9938-d79e97bd41bc",
   "metadata": {},
   "source": [
    "## 107. Leap Year Checker: Write a Python function called `is_leap_year` that takes a year as input and returns `True` if it is a leap year and `False` otherwise. Test the function with different years."
   ]
  },
  {
   "cell_type": "code",
   "execution_count": 71,
   "id": "f59d9124-d226-4dc2-b94a-490ec62f5738",
   "metadata": {},
   "outputs": [],
   "source": [
    "def is_leap_year(year):\n",
    "    if (year % 4 == 0 and year % 100 != 0) or (year % 400 == 0):\n",
    "        return True\n",
    "    else:\n",
    "        return False"
   ]
  },
  {
   "cell_type": "code",
   "execution_count": 73,
   "id": "600e2d58-284f-4051-99fe-76c83d6a0380",
   "metadata": {},
   "outputs": [
    {
     "name": "stdin",
     "output_type": "stream",
     "text": [
      "Enter year:  2024\n"
     ]
    },
    {
     "name": "stdout",
     "output_type": "stream",
     "text": [
      "True\n"
     ]
    }
   ],
   "source": [
    "yr=int(input(\"Enter year: \"))\n",
    "print(is_leap_year(yr))"
   ]
  },
  {
   "cell_type": "markdown",
   "id": "4ee4b959-5db8-488a-895c-3ba2b73dde7f",
   "metadata": {},
   "source": [
    "## Nested Functions Problems:"
   ]
  },
  {
   "cell_type": "markdown",
   "id": "f1d3d169-34f1-4f0d-b770-ba383bea428d",
   "metadata": {},
   "source": [
    "## 108. Math Operations: Write a Python function called `math_operations` that takes three numbers and a string representing an operation (‘add’, ‘subtract’, ‘multiply’, or ‘divide’). The function should return the result of the specified operation on the three numbers. Implement the math operations as nested functions."
   ]
  },
  {
   "cell_type": "code",
   "execution_count": 79,
   "id": "558c1c8a-fab3-4d8d-9381-bd5cf6d0af89",
   "metadata": {},
   "outputs": [],
   "source": [
    "def math_operations(num1, num2, num3, operation):\n",
    "    def add(a, b, c):\n",
    "        return a + b + c\n",
    "\n",
    "    def subtract(a, b, c):\n",
    "        return a - b - c\n",
    "\n",
    "    def multiply(a, b, c):\n",
    "        return a * b * c\n",
    "\n",
    "    def divide(a, b, c):\n",
    "        if b == 0 or c == 0:\n",
    "            return \"Error: Division by zero is not allowed.\"\n",
    "        return a / b / c\n",
    "\n",
    "    if operation == 'add':\n",
    "        return add(num1, num2, num3)\n",
    "    elif operation == 'subtract':\n",
    "        return subtract(num1, num2, num3)\n",
    "    elif operation == 'multiply':\n",
    "        return multiply(num1, num2, num3)\n",
    "    elif operation == 'divide':\n",
    "        return divide(num1, num2, num3)\n",
    "    else:\n",
    "        return \"Error: Invalid operation.\"\n"
   ]
  },
  {
   "cell_type": "code",
   "execution_count": 81,
   "id": "8501cd72-e1c8-4160-b906-d0e83bc27c49",
   "metadata": {},
   "outputs": [
    {
     "name": "stdin",
     "output_type": "stream",
     "text": [
      "Enter n1:  12\n",
      "Enter n2:  3\n",
      "Enter n3:  56\n"
     ]
    },
    {
     "name": "stdout",
     "output_type": "stream",
     "text": [
      "Add:  71\n",
      "Subtract:  -47\n",
      "Multiply:  2016\n",
      "Divide:  0.07142857142857142\n",
      "Modulus:  Error: Invalid operation.\n"
     ]
    }
   ],
   "source": [
    "n1=int(input(\"Enter n1: \"))\n",
    "n2=int(input(\"Enter n2: \"))\n",
    "n3=int(input(\"Enter n3: \"))\n",
    "\n",
    "print(\"Add: \",math_operations(n1, n2, n3, 'add'))       \n",
    "print(\"Subtract: \",math_operations(n1, n2, n3, 'subtract'))  \n",
    "print(\"Multiply: \",math_operations(n1, n2, n3, 'multiply'))\n",
    "print(\"Divide: \",math_operations(n1, n2, n3, 'divide'))       \n",
    "print(\"Modulus: \",math_operations(n1, n2, n3, 'modulus')) "
   ]
  },
  {
   "cell_type": "markdown",
   "id": "142f6ca2-7995-470c-a1f2-a879156dfa56",
   "metadata": {},
   "source": [
    "## 109. Greeting Generator: Write a Python function called `greeting_generator` that takes a name as input and returns a greeting message using nested functions. The greeting message should be customizable (e.g., “Hello, {name}! How are you today?”)."
   ]
  },
  {
   "cell_type": "code",
   "execution_count": 84,
   "id": "3b10ca46-6eb8-484c-9bfe-daeaf820b942",
   "metadata": {},
   "outputs": [],
   "source": [
    "def greeting_generator():\n",
    "    def greeting_template(name):\n",
    "        def create_greeting():\n",
    "            return f\"Hello, {name}! How are you today?\"\n",
    "        return create_greeting()\n",
    "    \n",
    "    return greeting_template\n"
   ]
  },
  {
   "cell_type": "code",
   "execution_count": 88,
   "id": "18958a34-1c43-417f-9719-ae502b166912",
   "metadata": {},
   "outputs": [
    {
     "name": "stdout",
     "output_type": "stream",
     "text": [
      "Hello, Shimul! How are you today?\n"
     ]
    }
   ],
   "source": [
    "generate_greeting = greeting_generator()\n",
    "greeting_message = generate_greeting(\"Shimul\")\n",
    "print(greeting_message)"
   ]
  },
  {
   "cell_type": "markdown",
   "id": "f00d0843-a0d6-49ad-8aee-89963c50fce1",
   "metadata": {},
   "source": [
    "## 110. Temperature Converter: Write a Python function called `temperature_converter` that takes a temperature value and a string representing the scale (‘C’ for Celsius or ‘F’ for Fahrenheit) as input. The function should convert the temperature from one scale to the other using nested functions and return the converted value."
   ]
  },
  {
   "cell_type": "code",
   "execution_count": 115,
   "id": "76812d04-1d88-459e-a673-5ec44b8fa755",
   "metadata": {},
   "outputs": [
    {
     "name": "stdout",
     "output_type": "stream",
     "text": [
      "100.0\n",
      "100.0\n"
     ]
    }
   ],
   "source": [
    "def temperature_converter(value, scale):\n",
    "    def to_celsius(fahrenheit):\n",
    "        return (fahrenheit - 32) * 5 / 9\n",
    "\n",
    "    def to_fahrenheit(celsius):\n",
    "        return (celsius * 9 / 5) + 32\n",
    "    if scale.upper() == 'C':\n",
    "        return to_fahrenheit(value)\n",
    "    elif scale.upper() == 'F':\n",
    "        return to_celsius(value)\n",
    "    else:\n",
    "        return \"Invalid scale. Use 'C' for Celsius or 'F' for Fahrenheit.\"\n",
    "\n",
    "onverted_temp = temperature_converter(100, 'C')\n",
    "print(converted_temp)  \n",
    "\n",
    "converted_temp = temperature_converter(212, 'F')\n",
    "print(converted_temp)  "
   ]
  },
  {
   "cell_type": "markdown",
   "id": "54d04e7a-0803-4c6c-8680-1cc5d20b3003",
   "metadata": {},
   "source": [
    "## Recursion"
   ]
  },
  {
   "cell_type": "markdown",
   "id": "88fc64ff-32ed-4654-900c-6e5d9e580a90",
   "metadata": {},
   "source": [
    "##  111. Factorial Calculation: Write a recursive Python function called `factorial` that takes a non-negative integer as input and returns its factorial."
   ]
  },
  {
   "cell_type": "code",
   "execution_count": 119,
   "id": "e9dd481d-65c3-4eaa-ba92-4f18bf5197f6",
   "metadata": {},
   "outputs": [
    {
     "name": "stdout",
     "output_type": "stream",
     "text": [
      "120\n"
     ]
    }
   ],
   "source": [
    "def factorial(n):\n",
    "    if n == 0 or n == 1:\n",
    "        return 1\n",
    "    else:\n",
    "        return n * factorial(n - 1)\n",
    "result = factorial(5)\n",
    "print(result)  "
   ]
  },
  {
   "cell_type": "markdown",
   "id": "8b7b4cb9-2708-45b1-9afa-b4a28c423813",
   "metadata": {},
   "source": [
    "## 112. Fibonacci Series: Write a recursive Python function called `Fibonacci` that takes an integer N as input and returns the Nth number in the Fibonacci series. The Fibonacci series is defined as follows: F(0) = 0, F(1) = 1, and F(n) = F(n-1) + F(n-2) for n > 1."
   ]
  },
  {
   "cell_type": "code",
   "execution_count": 122,
   "id": "e574e7a0-dd60-4add-87dc-f7d3e8ca6ff1",
   "metadata": {},
   "outputs": [
    {
     "name": "stdout",
     "output_type": "stream",
     "text": [
      "8\n"
     ]
    }
   ],
   "source": [
    "def Fibonacci(n):\n",
    "    if n == 0:\n",
    "        return 0\n",
    "    elif n == 1:\n",
    "        return 1\n",
    "    else:\n",
    "        return Fibonacci(n - 1) + Fibonacci(n - 2)\n",
    "result = Fibonacci(6)\n",
    "print(result) "
   ]
  },
  {
   "cell_type": "markdown",
   "id": "f7639e05-4cd2-486c-a380-fc0d0e8560dc",
   "metadata": {},
   "source": [
    "## 113. The sum of Digits: Write a recursive Python function called `sum_of_digits` that takes an integer as input and returns the sum of its digits."
   ]
  },
  {
   "cell_type": "code",
   "execution_count": 125,
   "id": "e1d93cd8-327d-4a75-abfb-fa61088d6ce4",
   "metadata": {},
   "outputs": [
    {
     "name": "stdout",
     "output_type": "stream",
     "text": [
      "10\n"
     ]
    }
   ],
   "source": [
    "def sum_of_digits(n):\n",
    "    if n == 0:\n",
    "        return 0\n",
    "    else:\n",
    "        return n % 10 + sum_of_digits(n // 10)\n",
    "result = sum_of_digits(1234)\n",
    "print(result) "
   ]
  },
  {
   "cell_type": "markdown",
   "id": "c55b89d8-823d-4e27-aaf3-ff4c40a00c89",
   "metadata": {},
   "source": [
    "## 114. Binary Search: Write a recursive Python function called `binary_search` that takes a sorted list and a target value as input and returns the index of the target value in the list using binary search. If the target value is not in the list, return -1."
   ]
  },
  {
   "cell_type": "code",
   "execution_count": 128,
   "id": "82d4703d-bb60-4055-8192-3d19db070229",
   "metadata": {},
   "outputs": [],
   "source": [
    "def binary_search(sorted_list, target, left=0, right=None):\n",
    "    if right is None:\n",
    "        right = len(sorted_list) - 1\n",
    "    \n",
    "    if left > right:\n",
    "        return -1\n",
    "\n",
    "    mid = (left + right) // 2\n",
    "    if sorted_list[mid] == target:\n",
    "        return mid\n",
    "    elif sorted_list[mid] > target:\n",
    "        return binary_search(sorted_list, target, left, mid - 1)\n",
    "    else:\n",
    "        return binary_search(sorted_list, target, mid + 1, right)"
   ]
  },
  {
   "cell_type": "code",
   "execution_count": 130,
   "id": "ab618ef2-39e9-4a4b-b254-76d10ef46367",
   "metadata": {},
   "outputs": [
    {
     "name": "stdout",
     "output_type": "stream",
     "text": [
      "7 found in index:  3\n"
     ]
    }
   ],
   "source": [
    "sorted_list = [1, 3, 5, 7, 9, 11, 13, 15, 17, 19]\n",
    "print(\"7 found in index: \",binary_search(sorted_list, 7))"
   ]
  },
  {
   "cell_type": "markdown",
   "id": "07a6c77b-3f2a-48f6-a39a-4c0393311543",
   "metadata": {},
   "source": [
    "## 115. Power Calculation: Write a recursive Python function called `power` that takes two positive integers, base and exponent, as input and returns the value of base raised to the exponent."
   ]
  },
  {
   "cell_type": "code",
   "execution_count": 134,
   "id": "ea4d598f-975d-4eea-aeb3-21fd4e25806d",
   "metadata": {},
   "outputs": [
    {
     "name": "stdout",
     "output_type": "stream",
     "text": [
      "8\n"
     ]
    }
   ],
   "source": [
    "def power(base, exponent):\n",
    "    if exponent == 0:\n",
    "        return 1\n",
    "    else:\n",
    "        return base * power(base, exponent - 1)\n",
    "result = power(2, 3)\n",
    "print(result) "
   ]
  }
 ],
 "metadata": {
  "kernelspec": {
   "display_name": "Python 3 (ipykernel)",
   "language": "python",
   "name": "python3"
  },
  "language_info": {
   "codemirror_mode": {
    "name": "ipython",
    "version": 3
   },
   "file_extension": ".py",
   "mimetype": "text/x-python",
   "name": "python",
   "nbconvert_exporter": "python",
   "pygments_lexer": "ipython3",
   "version": "3.12.4"
  }
 },
 "nbformat": 4,
 "nbformat_minor": 5
}
